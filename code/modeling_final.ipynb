{
 "cells": [
  {
   "cell_type": "code",
   "execution_count": 1,
   "id": "57fd67e5",
   "metadata": {},
   "outputs": [],
   "source": [
    "import pandas as pd"
   ]
  },
  {
   "cell_type": "markdown",
   "id": "7a3ef822",
   "metadata": {},
   "source": [
    "### 데이터 불러오기"
   ]
  },
  {
   "cell_type": "code",
   "execution_count": 568,
   "id": "54020f8f",
   "metadata": {},
   "outputs": [],
   "source": [
    "df = pd.read_csv('../data/20211216_rainNsnow.csv',encoding = 'euc-kr',index_col=0)"
   ]
  },
  {
   "cell_type": "code",
   "execution_count": 10,
   "id": "07f31849",
   "metadata": {
    "scrolled": false
   },
   "outputs": [
    {
     "name": "stdout",
     "output_type": "stream",
     "text": [
      "<class 'pandas.core.frame.DataFrame'>\n",
      "Int64Index: 181499 entries, 0 to 181498\n",
      "Data columns (total 22 columns):\n",
      " #   Column  Non-Null Count   Dtype  \n",
      "---  ------  --------------   -----  \n",
      " 0   날짜      181499 non-null  object \n",
      " 1   호선      181499 non-null  object \n",
      " 2   역번호     181499 non-null  float64\n",
      " 3   역명      181499 non-null  object \n",
      " 4   요일      181499 non-null  float64\n",
      " 5   인원      181499 non-null  float64\n",
      " 6   기온      181499 non-null  float64\n",
      " 7   강수량     181499 non-null  object \n",
      " 8   풍속      181499 non-null  float64\n",
      " 9   적설      181499 non-null  object \n",
      " 10  연도      181499 non-null  int64  \n",
      " 11  lat     181499 non-null  float64\n",
      " 12  lng     181499 non-null  float64\n",
      " 13  동       181499 non-null  object \n",
      " 14  관광지수    181499 non-null  float64\n",
      " 15  사업체수    181499 non-null  float64\n",
      " 16  인구수     181499 non-null  float64\n",
      " 17  상권수     181499 non-null  float64\n",
      " 18  비율      181499 non-null  float64\n",
      " 19  혼잡      181499 non-null  int64  \n",
      " 20  총인원     181499 non-null  float64\n",
      " 21  new_비율  181288 non-null  float64\n",
      "dtypes: float64(14), int64(2), object(6)\n",
      "memory usage: 31.8+ MB\n"
     ]
    }
   ],
   "source": [
    "df.info()"
   ]
  },
  {
   "cell_type": "markdown",
   "id": "d9f1b47e",
   "metadata": {},
   "source": [
    "### 범주형 자료 변환"
   ]
  },
  {
   "cell_type": "code",
   "execution_count": 13,
   "id": "c0d0b2f1",
   "metadata": {},
   "outputs": [],
   "source": [
    "from sklearn.preprocessing import LabelEncoder\n",
    "def get_labelencoder(x):\n",
    "    le = LabelEncoder()\n",
    "    le.fit(df[x])\n",
    "    df['new'+x] = le.transform(df[x])\n",
    "    return df"
   ]
  },
  {
   "cell_type": "code",
   "execution_count": 571,
   "id": "b5d3f330",
   "metadata": {},
   "outputs": [
    {
     "data": {
      "text/html": [
       "<div>\n",
       "<style scoped>\n",
       "    .dataframe tbody tr th:only-of-type {\n",
       "        vertical-align: middle;\n",
       "    }\n",
       "\n",
       "    .dataframe tbody tr th {\n",
       "        vertical-align: top;\n",
       "    }\n",
       "\n",
       "    .dataframe thead th {\n",
       "        text-align: right;\n",
       "    }\n",
       "</style>\n",
       "<table border=\"1\" class=\"dataframe\">\n",
       "  <thead>\n",
       "    <tr style=\"text-align: right;\">\n",
       "      <th></th>\n",
       "      <th>날짜</th>\n",
       "      <th>호선</th>\n",
       "      <th>역번호</th>\n",
       "      <th>역명</th>\n",
       "      <th>요일</th>\n",
       "      <th>인원</th>\n",
       "      <th>기온</th>\n",
       "      <th>강수량</th>\n",
       "      <th>풍속</th>\n",
       "      <th>적설</th>\n",
       "      <th>...</th>\n",
       "      <th>사업체수</th>\n",
       "      <th>인구수</th>\n",
       "      <th>상권수</th>\n",
       "      <th>비율</th>\n",
       "      <th>혼잡</th>\n",
       "      <th>총인원</th>\n",
       "      <th>new_비율</th>\n",
       "      <th>new강수량</th>\n",
       "      <th>new적설</th>\n",
       "      <th>new역명</th>\n",
       "    </tr>\n",
       "  </thead>\n",
       "  <tbody>\n",
       "    <tr>\n",
       "      <th>0</th>\n",
       "      <td>2019-01-01</td>\n",
       "      <td>1호선</td>\n",
       "      <td>158.0</td>\n",
       "      <td>청량리</td>\n",
       "      <td>1.0</td>\n",
       "      <td>1576.0</td>\n",
       "      <td>-2.95</td>\n",
       "      <td>맑음</td>\n",
       "      <td>2.90</td>\n",
       "      <td>맑음</td>\n",
       "      <td>...</td>\n",
       "      <td>3182.0</td>\n",
       "      <td>51065.0</td>\n",
       "      <td>9.0</td>\n",
       "      <td>0.576690</td>\n",
       "      <td>0</td>\n",
       "      <td>4277.0</td>\n",
       "      <td>0.368483</td>\n",
       "      <td>0</td>\n",
       "      <td>3</td>\n",
       "      <td>197</td>\n",
       "    </tr>\n",
       "    <tr>\n",
       "      <th>1</th>\n",
       "      <td>2019-01-02</td>\n",
       "      <td>1호선</td>\n",
       "      <td>158.0</td>\n",
       "      <td>청량리</td>\n",
       "      <td>2.0</td>\n",
       "      <td>4327.0</td>\n",
       "      <td>-2.95</td>\n",
       "      <td>맑음</td>\n",
       "      <td>2.10</td>\n",
       "      <td>맑음</td>\n",
       "      <td>...</td>\n",
       "      <td>3182.0</td>\n",
       "      <td>51065.0</td>\n",
       "      <td>9.0</td>\n",
       "      <td>1.583336</td>\n",
       "      <td>0</td>\n",
       "      <td>4277.0</td>\n",
       "      <td>1.011690</td>\n",
       "      <td>0</td>\n",
       "      <td>3</td>\n",
       "      <td>197</td>\n",
       "    </tr>\n",
       "    <tr>\n",
       "      <th>2</th>\n",
       "      <td>2019-01-03</td>\n",
       "      <td>1호선</td>\n",
       "      <td>158.0</td>\n",
       "      <td>청량리</td>\n",
       "      <td>3.0</td>\n",
       "      <td>4304.0</td>\n",
       "      <td>-0.65</td>\n",
       "      <td>맑음</td>\n",
       "      <td>1.80</td>\n",
       "      <td>맑음</td>\n",
       "      <td>...</td>\n",
       "      <td>3182.0</td>\n",
       "      <td>51065.0</td>\n",
       "      <td>9.0</td>\n",
       "      <td>1.574920</td>\n",
       "      <td>0</td>\n",
       "      <td>4277.0</td>\n",
       "      <td>1.006313</td>\n",
       "      <td>0</td>\n",
       "      <td>3</td>\n",
       "      <td>197</td>\n",
       "    </tr>\n",
       "    <tr>\n",
       "      <th>3</th>\n",
       "      <td>2019-01-04</td>\n",
       "      <td>1호선</td>\n",
       "      <td>158.0</td>\n",
       "      <td>청량리</td>\n",
       "      <td>4.0</td>\n",
       "      <td>4711.0</td>\n",
       "      <td>1.90</td>\n",
       "      <td>맑음</td>\n",
       "      <td>1.25</td>\n",
       "      <td>맑음</td>\n",
       "      <td>...</td>\n",
       "      <td>3182.0</td>\n",
       "      <td>51065.0</td>\n",
       "      <td>9.0</td>\n",
       "      <td>1.723849</td>\n",
       "      <td>0</td>\n",
       "      <td>4277.0</td>\n",
       "      <td>1.101473</td>\n",
       "      <td>0</td>\n",
       "      <td>3</td>\n",
       "      <td>197</td>\n",
       "    </tr>\n",
       "    <tr>\n",
       "      <th>4</th>\n",
       "      <td>2019-01-05</td>\n",
       "      <td>1호선</td>\n",
       "      <td>158.0</td>\n",
       "      <td>청량리</td>\n",
       "      <td>5.0</td>\n",
       "      <td>2734.0</td>\n",
       "      <td>-1.80</td>\n",
       "      <td>맑음</td>\n",
       "      <td>1.55</td>\n",
       "      <td>맑음</td>\n",
       "      <td>...</td>\n",
       "      <td>3182.0</td>\n",
       "      <td>51065.0</td>\n",
       "      <td>9.0</td>\n",
       "      <td>1.000425</td>\n",
       "      <td>0</td>\n",
       "      <td>4277.0</td>\n",
       "      <td>0.639233</td>\n",
       "      <td>0</td>\n",
       "      <td>3</td>\n",
       "      <td>197</td>\n",
       "    </tr>\n",
       "    <tr>\n",
       "      <th>...</th>\n",
       "      <td>...</td>\n",
       "      <td>...</td>\n",
       "      <td>...</td>\n",
       "      <td>...</td>\n",
       "      <td>...</td>\n",
       "      <td>...</td>\n",
       "      <td>...</td>\n",
       "      <td>...</td>\n",
       "      <td>...</td>\n",
       "      <td>...</td>\n",
       "      <td>...</td>\n",
       "      <td>...</td>\n",
       "      <td>...</td>\n",
       "      <td>...</td>\n",
       "      <td>...</td>\n",
       "      <td>...</td>\n",
       "      <td>...</td>\n",
       "      <td>...</td>\n",
       "      <td>...</td>\n",
       "      <td>...</td>\n",
       "      <td>...</td>\n",
       "    </tr>\n",
       "    <tr>\n",
       "      <th>181494</th>\n",
       "      <td>2020-12-27</td>\n",
       "      <td>4호선</td>\n",
       "      <td>426.0</td>\n",
       "      <td>서울역</td>\n",
       "      <td>6.0</td>\n",
       "      <td>489.0</td>\n",
       "      <td>7.55</td>\n",
       "      <td>맑음</td>\n",
       "      <td>1.60</td>\n",
       "      <td>맑음</td>\n",
       "      <td>...</td>\n",
       "      <td>1212.0</td>\n",
       "      <td>13622.0</td>\n",
       "      <td>4.0</td>\n",
       "      <td>0.178935</td>\n",
       "      <td>0</td>\n",
       "      <td>1433.0</td>\n",
       "      <td>0.341242</td>\n",
       "      <td>0</td>\n",
       "      <td>3</td>\n",
       "      <td>109</td>\n",
       "    </tr>\n",
       "    <tr>\n",
       "      <th>181495</th>\n",
       "      <td>2020-12-28</td>\n",
       "      <td>4호선</td>\n",
       "      <td>426.0</td>\n",
       "      <td>서울역</td>\n",
       "      <td>0.0</td>\n",
       "      <td>1063.0</td>\n",
       "      <td>7.70</td>\n",
       "      <td>맑음</td>\n",
       "      <td>1.60</td>\n",
       "      <td>맑음</td>\n",
       "      <td>...</td>\n",
       "      <td>1212.0</td>\n",
       "      <td>13622.0</td>\n",
       "      <td>4.0</td>\n",
       "      <td>0.388973</td>\n",
       "      <td>0</td>\n",
       "      <td>1433.0</td>\n",
       "      <td>0.741800</td>\n",
       "      <td>0</td>\n",
       "      <td>3</td>\n",
       "      <td>109</td>\n",
       "    </tr>\n",
       "    <tr>\n",
       "      <th>181496</th>\n",
       "      <td>2020-12-29</td>\n",
       "      <td>4호선</td>\n",
       "      <td>426.0</td>\n",
       "      <td>서울역</td>\n",
       "      <td>1.0</td>\n",
       "      <td>1150.0</td>\n",
       "      <td>-0.50</td>\n",
       "      <td>맑음</td>\n",
       "      <td>3.70</td>\n",
       "      <td>맑음</td>\n",
       "      <td>...</td>\n",
       "      <td>1212.0</td>\n",
       "      <td>13622.0</td>\n",
       "      <td>4.0</td>\n",
       "      <td>0.420808</td>\n",
       "      <td>0</td>\n",
       "      <td>1433.0</td>\n",
       "      <td>0.802512</td>\n",
       "      <td>0</td>\n",
       "      <td>3</td>\n",
       "      <td>109</td>\n",
       "    </tr>\n",
       "    <tr>\n",
       "      <th>181497</th>\n",
       "      <td>2020-12-30</td>\n",
       "      <td>4호선</td>\n",
       "      <td>426.0</td>\n",
       "      <td>서울역</td>\n",
       "      <td>2.0</td>\n",
       "      <td>1311.0</td>\n",
       "      <td>-10.95</td>\n",
       "      <td>맑음</td>\n",
       "      <td>4.40</td>\n",
       "      <td>맑음</td>\n",
       "      <td>...</td>\n",
       "      <td>1212.0</td>\n",
       "      <td>13622.0</td>\n",
       "      <td>4.0</td>\n",
       "      <td>0.479721</td>\n",
       "      <td>0</td>\n",
       "      <td>1433.0</td>\n",
       "      <td>0.914864</td>\n",
       "      <td>0</td>\n",
       "      <td>3</td>\n",
       "      <td>109</td>\n",
       "    </tr>\n",
       "    <tr>\n",
       "      <th>181498</th>\n",
       "      <td>2020-12-31</td>\n",
       "      <td>4호선</td>\n",
       "      <td>426.0</td>\n",
       "      <td>서울역</td>\n",
       "      <td>3.0</td>\n",
       "      <td>1197.0</td>\n",
       "      <td>-6.90</td>\n",
       "      <td>맑음</td>\n",
       "      <td>2.45</td>\n",
       "      <td>맑음</td>\n",
       "      <td>...</td>\n",
       "      <td>1212.0</td>\n",
       "      <td>13622.0</td>\n",
       "      <td>4.0</td>\n",
       "      <td>0.438006</td>\n",
       "      <td>0</td>\n",
       "      <td>1433.0</td>\n",
       "      <td>0.835311</td>\n",
       "      <td>0</td>\n",
       "      <td>3</td>\n",
       "      <td>109</td>\n",
       "    </tr>\n",
       "  </tbody>\n",
       "</table>\n",
       "<p>181499 rows × 25 columns</p>\n",
       "</div>"
      ],
      "text/plain": [
       "                날짜   호선    역번호   역명   요일      인원     기온 강수량    풍속  적설  ...  \\\n",
       "0       2019-01-01  1호선  158.0  청량리  1.0  1576.0  -2.95  맑음  2.90  맑음  ...   \n",
       "1       2019-01-02  1호선  158.0  청량리  2.0  4327.0  -2.95  맑음  2.10  맑음  ...   \n",
       "2       2019-01-03  1호선  158.0  청량리  3.0  4304.0  -0.65  맑음  1.80  맑음  ...   \n",
       "3       2019-01-04  1호선  158.0  청량리  4.0  4711.0   1.90  맑음  1.25  맑음  ...   \n",
       "4       2019-01-05  1호선  158.0  청량리  5.0  2734.0  -1.80  맑음  1.55  맑음  ...   \n",
       "...            ...  ...    ...  ...  ...     ...    ...  ..   ...  ..  ...   \n",
       "181494  2020-12-27  4호선  426.0  서울역  6.0   489.0   7.55  맑음  1.60  맑음  ...   \n",
       "181495  2020-12-28  4호선  426.0  서울역  0.0  1063.0   7.70  맑음  1.60  맑음  ...   \n",
       "181496  2020-12-29  4호선  426.0  서울역  1.0  1150.0  -0.50  맑음  3.70  맑음  ...   \n",
       "181497  2020-12-30  4호선  426.0  서울역  2.0  1311.0 -10.95  맑음  4.40  맑음  ...   \n",
       "181498  2020-12-31  4호선  426.0  서울역  3.0  1197.0  -6.90  맑음  2.45  맑음  ...   \n",
       "\n",
       "          사업체수      인구수  상권수        비율  혼잡     총인원    new_비율  new강수량  new적설  \\\n",
       "0       3182.0  51065.0  9.0  0.576690   0  4277.0  0.368483       0      3   \n",
       "1       3182.0  51065.0  9.0  1.583336   0  4277.0  1.011690       0      3   \n",
       "2       3182.0  51065.0  9.0  1.574920   0  4277.0  1.006313       0      3   \n",
       "3       3182.0  51065.0  9.0  1.723849   0  4277.0  1.101473       0      3   \n",
       "4       3182.0  51065.0  9.0  1.000425   0  4277.0  0.639233       0      3   \n",
       "...        ...      ...  ...       ...  ..     ...       ...     ...    ...   \n",
       "181494  1212.0  13622.0  4.0  0.178935   0  1433.0  0.341242       0      3   \n",
       "181495  1212.0  13622.0  4.0  0.388973   0  1433.0  0.741800       0      3   \n",
       "181496  1212.0  13622.0  4.0  0.420808   0  1433.0  0.802512       0      3   \n",
       "181497  1212.0  13622.0  4.0  0.479721   0  1433.0  0.914864       0      3   \n",
       "181498  1212.0  13622.0  4.0  0.438006   0  1433.0  0.835311       0      3   \n",
       "\n",
       "        new역명  \n",
       "0         197  \n",
       "1         197  \n",
       "2         197  \n",
       "3         197  \n",
       "4         197  \n",
       "...       ...  \n",
       "181494    109  \n",
       "181495    109  \n",
       "181496    109  \n",
       "181497    109  \n",
       "181498    109  \n",
       "\n",
       "[181499 rows x 25 columns]"
      ]
     },
     "execution_count": 571,
     "metadata": {},
     "output_type": "execute_result"
    }
   ],
   "source": [
    "get_labelencoder('강수량')\n",
    "get_labelencoder('적설')\n",
    "get_labelencoder('역명')"
   ]
  },
  {
   "cell_type": "markdown",
   "id": "e449c714",
   "metadata": {},
   "source": [
    "### 분석에 사용할 컬럼들만 선택"
   ]
  },
  {
   "cell_type": "code",
   "execution_count": 20,
   "id": "99a5b773",
   "metadata": {},
   "outputs": [],
   "source": [
    "data = df[['요일','기온','풍속','new강수량','new적설','new역명','사업체수','인구수','상권수','관광지수','new_비율','혼잡']]"
   ]
  },
  {
   "cell_type": "code",
   "execution_count": 21,
   "id": "8ae4368b",
   "metadata": {},
   "outputs": [],
   "source": [
    "X = data.drop(['혼잡','new_비율'],axis=1)\n",
    "y = data['혼잡']"
   ]
  },
  {
   "cell_type": "markdown",
   "id": "cacb2f76",
   "metadata": {},
   "source": [
    "# RandomForest - 모든 변수 이용"
   ]
  },
  {
   "cell_type": "code",
   "execution_count": 705,
   "id": "8faf3998",
   "metadata": {},
   "outputs": [
    {
     "name": "stdout",
     "output_type": "stream",
     "text": [
      "Hangul OK in your Windows !!!\n"
     ]
    }
   ],
   "source": [
    "import warnings \n",
    "warnings.filterwarnings(action='ignore')\n",
    "from matplotlib import font_manager, rc\n",
    "import platform\n",
    "import seaborn as sns\n",
    "import matplotlib.pyplot as plt\n",
    "\n",
    "\n",
    "path = \"c:/Windows/Fonts/malgun.ttf\"\n",
    "\n",
    "if platform.system() == \"Darwin\":\n",
    "    \n",
    "    print(\"Hangul OK in your MAC !!!\")\n",
    "    rc(\"font\", family=\"AppleGothic\")\n",
    "elif platform.system() == \"Windows\":\n",
    "    font_name = font_manager.FontProperties(fname=path).get_name()\n",
    "    print(\"Hangul OK in your Windows !!!\")\n",
    "    rc(\"font\", family=font_name)\n",
    "else:\n",
    "    print(\"Unknown system... sorry~~~~\")\n",
    "\n",
    "plt.rcParams[\"axes.unicode_minus\"] = False"
   ]
  },
  {
   "cell_type": "code",
   "execution_count": 31,
   "id": "19d59b5f",
   "metadata": {
    "scrolled": true
   },
   "outputs": [
    {
     "data": {
      "text/plain": [
       "<AxesSubplot:xlabel='혼잡', ylabel='count'>"
      ]
     },
     "execution_count": 31,
     "metadata": {},
     "output_type": "execute_result"
    },
    {
     "data": {
      "image/png": "[encoded data removed]",
      "text/plain": [
       "<Figure size 432x288 with 1 Axes>"
      ]
     },
     "metadata": {
      "needs_background": "light"
     },
     "output_type": "display_data"
    }
   ],
   "source": [
    "sns.countplot(data['혼잡'])"
   ]
  },
  {
   "cell_type": "code",
   "execution_count": 26,
   "id": "c5ebb05e",
   "metadata": {},
   "outputs": [
    {
     "data": {
      "text/plain": [
       "((116159, 10), (29040, 10), (116159,), (29040,))"
      ]
     },
     "execution_count": 26,
     "metadata": {},
     "output_type": "execute_result"
    }
   ],
   "source": [
    "from sklearn.model_selection import train_test_split\n",
    "\n",
    "# train, test , validation set으로 나누기 \n",
    "X_train,X_test ,y_train, y_test = train_test_split(X,y,test_size=0.2,stratify=y,random_state=13,shuffle=True)\n",
    "X_train,X_val,y_train,y_val = train_test_split(X_train,y_train,test_size=0.2,random_state=13)\n",
    "X_train.shape,X_val.shape,y_train.shape,y_val.shape"
   ]
  },
  {
   "cell_type": "code",
   "execution_count": 32,
   "id": "4c5165a0",
   "metadata": {},
   "outputs": [],
   "source": [
    "from imblearn.over_sampling import SMOTE\n",
    "\n",
    "smote = SMOTE(random_state=13)\n",
    "X_train_over,y_train_over = smote.fit_resample(X_train,y_train)"
   ]
  },
  {
   "cell_type": "code",
   "execution_count": 63,
   "id": "c20f60aa",
   "metadata": {},
   "outputs": [],
   "source": [
    "from sklearn.ensemble import RandomForestClassifier\n",
    "from sklearn.metrics import accuracy_score,f1_score, confusion_matrix\n",
    "def train(x_t,x_v,y_t,y_v):\n",
    "    rf_clf = RandomForestClassifier()\n",
    "    rf_clf.fit(x_t,y_t)\n",
    "    pred= rf_clf.predict(x_v)\n",
    "\n",
    "    print('acc :',accuracy_score(y_v,pred))\n",
    "    print('f1 score',f1_score(y_v,pred))\n",
    "    print(confusion_matrix(y_v,pred))\n",
    "    \n",
    "    cols = pd.Series(rf_clf.feature_importances_, index=x_t.columns).sort_values(ascending=False)\n",
    "    plt.figure(figsize=(10,10))\n",
    "    sns.barplot(x=cols, y=cols.index, palette='Spectral')\n",
    "    plt.show()"
   ]
  },
  {
   "cell_type": "code",
   "execution_count": 65,
   "id": "77de71b4",
   "metadata": {},
   "outputs": [
    {
     "name": "stdout",
     "output_type": "stream",
     "text": [
      "acc : 0.9579201101928375\n",
      "f1 score 0.647228637413395\n",
      "[[26697   640]\n",
      " [  582  1121]]\n"
     ]
    },
    {
     "data": {
      "image/png": "[encoded data removed]",
      "text/plain": [
       "<Figure size 720x720 with 1 Axes>"
      ]
     },
     "metadata": {
      "needs_background": "light"
     },
     "output_type": "display_data"
    }
   ],
   "source": [
    "# upsampling 적용\n",
    "train(X_train_over,X_val,y_train_over,y_val)"
   ]
  },
  {
   "cell_type": "code",
   "execution_count": 66,
   "id": "434f14f0",
   "metadata": {},
   "outputs": [
    {
     "name": "stdout",
     "output_type": "stream",
     "text": [
      "acc : 0.9621212121212122\n",
      "f1 score 0.6185852981969486\n",
      "[[27048   289]\n",
      " [  811   892]]\n"
     ]
    },
    {
     "data": {
      "image/png": "[encoded data removed]",
      "text/plain": [
       "<Figure size 720x720 with 1 Axes>"
      ]
     },
     "metadata": {
      "needs_background": "light"
     },
     "output_type": "display_data"
    }
   ],
   "source": [
    "# upsampling 적용 안함\n",
    "train(X_train,X_val,y_train,y_val)"
   ]
  },
  {
   "cell_type": "markdown",
   "id": "ad484a51",
   "metadata": {},
   "source": [
    "### test데이터에 대해 얼마나 맞출까?"
   ]
  },
  {
   "cell_type": "code",
   "execution_count": 42,
   "id": "f7539225",
   "metadata": {},
   "outputs": [],
   "source": [
    "pred_test = rf_clf.predict(X_test)"
   ]
  },
  {
   "cell_type": "code",
   "execution_count": 71,
   "id": "08cb365f",
   "metadata": {},
   "outputs": [
    {
     "data": {
      "text/html": [
       "<div>\n",
       "<style scoped>\n",
       "    .dataframe tbody tr th:only-of-type {\n",
       "        vertical-align: middle;\n",
       "    }\n",
       "\n",
       "    .dataframe tbody tr th {\n",
       "        vertical-align: top;\n",
       "    }\n",
       "\n",
       "    .dataframe thead th {\n",
       "        text-align: right;\n",
       "    }\n",
       "</style>\n",
       "<table border=\"1\" class=\"dataframe\">\n",
       "  <thead>\n",
       "    <tr style=\"text-align: right;\">\n",
       "      <th></th>\n",
       "      <th>요일</th>\n",
       "      <th>기온</th>\n",
       "      <th>풍속</th>\n",
       "      <th>new강수량</th>\n",
       "      <th>new적설</th>\n",
       "      <th>new역명</th>\n",
       "      <th>사업체수</th>\n",
       "      <th>인구수</th>\n",
       "      <th>상권수</th>\n",
       "      <th>관광지수</th>\n",
       "    </tr>\n",
       "  </thead>\n",
       "  <tbody>\n",
       "    <tr>\n",
       "      <th>144204</th>\n",
       "      <td>4.0</td>\n",
       "      <td>-1.55</td>\n",
       "      <td>3.70</td>\n",
       "      <td>0</td>\n",
       "      <td>3</td>\n",
       "      <td>137</td>\n",
       "      <td>1737.0</td>\n",
       "      <td>102288.0</td>\n",
       "      <td>17.0</td>\n",
       "      <td>1.0</td>\n",
       "    </tr>\n",
       "    <tr>\n",
       "      <th>136900</th>\n",
       "      <td>3.0</td>\n",
       "      <td>1.30</td>\n",
       "      <td>3.55</td>\n",
       "      <td>0</td>\n",
       "      <td>3</td>\n",
       "      <td>42</td>\n",
       "      <td>5348.0</td>\n",
       "      <td>45731.0</td>\n",
       "      <td>28.0</td>\n",
       "      <td>1.0</td>\n",
       "    </tr>\n",
       "    <tr>\n",
       "      <th>71537</th>\n",
       "      <td>1.0</td>\n",
       "      <td>15.80</td>\n",
       "      <td>3.65</td>\n",
       "      <td>0</td>\n",
       "      <td>3</td>\n",
       "      <td>135</td>\n",
       "      <td>3317.0</td>\n",
       "      <td>177372.0</td>\n",
       "      <td>21.0</td>\n",
       "      <td>0.0</td>\n",
       "    </tr>\n",
       "    <tr>\n",
       "      <th>29894</th>\n",
       "      <td>4.0</td>\n",
       "      <td>14.15</td>\n",
       "      <td>1.50</td>\n",
       "      <td>0</td>\n",
       "      <td>3</td>\n",
       "      <td>140</td>\n",
       "      <td>633.0</td>\n",
       "      <td>26221.0</td>\n",
       "      <td>8.0</td>\n",
       "      <td>0.0</td>\n",
       "    </tr>\n",
       "    <tr>\n",
       "      <th>15727</th>\n",
       "      <td>6.0</td>\n",
       "      <td>-0.20</td>\n",
       "      <td>3.05</td>\n",
       "      <td>0</td>\n",
       "      <td>3</td>\n",
       "      <td>186</td>\n",
       "      <td>2895.0</td>\n",
       "      <td>120780.0</td>\n",
       "      <td>2.0</td>\n",
       "      <td>1.0</td>\n",
       "    </tr>\n",
       "    <tr>\n",
       "      <th>...</th>\n",
       "      <td>...</td>\n",
       "      <td>...</td>\n",
       "      <td>...</td>\n",
       "      <td>...</td>\n",
       "      <td>...</td>\n",
       "      <td>...</td>\n",
       "      <td>...</td>\n",
       "      <td>...</td>\n",
       "      <td>...</td>\n",
       "      <td>...</td>\n",
       "    </tr>\n",
       "    <tr>\n",
       "      <th>25831</th>\n",
       "      <td>2.0</td>\n",
       "      <td>23.95</td>\n",
       "      <td>2.35</td>\n",
       "      <td>1</td>\n",
       "      <td>3</td>\n",
       "      <td>79</td>\n",
       "      <td>5307.0</td>\n",
       "      <td>31963.0</td>\n",
       "      <td>6.0</td>\n",
       "      <td>1.0</td>\n",
       "    </tr>\n",
       "    <tr>\n",
       "      <th>176725</th>\n",
       "      <td>1.0</td>\n",
       "      <td>9.05</td>\n",
       "      <td>1.05</td>\n",
       "      <td>0</td>\n",
       "      <td>3</td>\n",
       "      <td>127</td>\n",
       "      <td>2886.0</td>\n",
       "      <td>6284.0</td>\n",
       "      <td>3.0</td>\n",
       "      <td>5.0</td>\n",
       "    </tr>\n",
       "    <tr>\n",
       "      <th>95802</th>\n",
       "      <td>3.0</td>\n",
       "      <td>14.45</td>\n",
       "      <td>1.80</td>\n",
       "      <td>0</td>\n",
       "      <td>3</td>\n",
       "      <td>9</td>\n",
       "      <td>623.0</td>\n",
       "      <td>32407.0</td>\n",
       "      <td>0.0</td>\n",
       "      <td>0.0</td>\n",
       "    </tr>\n",
       "    <tr>\n",
       "      <th>136691</th>\n",
       "      <td>4.0</td>\n",
       "      <td>24.90</td>\n",
       "      <td>3.30</td>\n",
       "      <td>0</td>\n",
       "      <td>3</td>\n",
       "      <td>42</td>\n",
       "      <td>5348.0</td>\n",
       "      <td>45731.0</td>\n",
       "      <td>28.0</td>\n",
       "      <td>1.0</td>\n",
       "    </tr>\n",
       "    <tr>\n",
       "      <th>84415</th>\n",
       "      <td>1.0</td>\n",
       "      <td>30.80</td>\n",
       "      <td>1.35</td>\n",
       "      <td>0</td>\n",
       "      <td>3</td>\n",
       "      <td>26</td>\n",
       "      <td>802.0</td>\n",
       "      <td>11978.0</td>\n",
       "      <td>1.0</td>\n",
       "      <td>0.0</td>\n",
       "    </tr>\n",
       "  </tbody>\n",
       "</table>\n",
       "<p>36300 rows × 10 columns</p>\n",
       "</div>"
      ],
      "text/plain": [
       "         요일     기온    풍속  new강수량  new적설  new역명    사업체수       인구수   상권수  관광지수\n",
       "144204  4.0  -1.55  3.70       0      3    137  1737.0  102288.0  17.0   1.0\n",
       "136900  3.0   1.30  3.55       0      3     42  5348.0   45731.0  28.0   1.0\n",
       "71537   1.0  15.80  3.65       0      3    135  3317.0  177372.0  21.0   0.0\n",
       "29894   4.0  14.15  1.50       0      3    140   633.0   26221.0   8.0   0.0\n",
       "15727   6.0  -0.20  3.05       0      3    186  2895.0  120780.0   2.0   1.0\n",
       "...     ...    ...   ...     ...    ...    ...     ...       ...   ...   ...\n",
       "25831   2.0  23.95  2.35       1      3     79  5307.0   31963.0   6.0   1.0\n",
       "176725  1.0   9.05  1.05       0      3    127  2886.0    6284.0   3.0   5.0\n",
       "95802   3.0  14.45  1.80       0      3      9   623.0   32407.0   0.0   0.0\n",
       "136691  4.0  24.90  3.30       0      3     42  5348.0   45731.0  28.0   1.0\n",
       "84415   1.0  30.80  1.35       0      3     26   802.0   11978.0   1.0   0.0\n",
       "\n",
       "[36300 rows x 10 columns]"
      ]
     },
     "execution_count": 71,
     "metadata": {},
     "output_type": "execute_result"
    }
   ],
   "source": [
    "X_test"
   ]
  },
  {
   "cell_type": "code",
   "execution_count": 67,
   "id": "86045d09",
   "metadata": {},
   "outputs": [
    {
     "data": {
      "text/plain": [
       "(1541, 10)"
      ]
     },
     "execution_count": 67,
     "metadata": {},
     "output_type": "execute_result"
    }
   ],
   "source": [
    "pred_test = rf_clf.predict(X_test)\n",
    "wrong = X_test[y_test!=pred_test]\n",
    "wrong.shape\n",
    "wrong_list = wrong['new역명'].value_counts()[:10].index\n",
    "# 가장 많이 틀린 역 top 10 \n",
    "for x in wrong_list : \n",
    "    print(df[df['new역명']==x]['역명'].unique())"
   ]
  },
  {
   "cell_type": "code",
   "execution_count": 56,
   "id": "ee227571",
   "metadata": {},
   "outputs": [],
   "source": [
    "wrong_list = wrong['new역명'].value_counts()[:10].index"
   ]
  },
  {
   "cell_type": "code",
   "execution_count": 58,
   "id": "8f7378f5",
   "metadata": {},
   "outputs": [
    {
     "name": "stdout",
     "output_type": "stream",
     "text": [
      "['을지로4가']\n",
      "['종합운동장']\n",
      "['동대입구']\n",
      "['한양대']\n",
      "['충무로']\n",
      "['종로3가']\n",
      "['시청']\n",
      "['한강진']\n",
      "['동대문역사문화공원']\n",
      "['여의나루']\n"
     ]
    }
   ],
   "source": [
    "# 가장 많이 틀린 역 top 10 \n",
    "for x in wrong_list : \n",
    "    print(df[df['new역명']==x]['역명'].unique())"
   ]
  },
  {
   "cell_type": "markdown",
   "id": "ce9d1ece",
   "metadata": {},
   "source": [
    "# 극단적인 비율을 제거해보고 모델 평가해보기"
   ]
  },
  {
   "cell_type": "code",
   "execution_count": 732,
   "id": "688e3bbd",
   "metadata": {},
   "outputs": [
    {
     "data": {
      "text/plain": [
       "<AxesSubplot:xlabel='new_비율'>"
      ]
     },
     "execution_count": 732,
     "metadata": {},
     "output_type": "execute_result"
    },
    {
     "data": {
      "image/png": "[encoded data removed]",
      "text/plain": [
       "<Figure size 864x576 with 1 Axes>"
      ]
     },
     "metadata": {},
     "output_type": "display_data"
    }
   ],
   "source": [
    "plt.figure(figsize=(12,8))\n",
    "sns.boxplot(data['new_비율'])"
   ]
  },
  {
   "cell_type": "markdown",
   "id": "5239ce8f",
   "metadata": {},
   "source": [
    "## new_비율 > 5 인 데이터 제거 & 상권수,관광지수 컬럼제거 "
   ]
  },
  {
   "cell_type": "code",
   "execution_count": 130,
   "id": "4f3d3619",
   "metadata": {},
   "outputs": [
    {
     "name": "stdout",
     "output_type": "stream",
     "text": [
      "(181268, 12)\n"
     ]
    },
    {
     "data": {
      "text/html": [
       "<div>\n",
       "<style scoped>\n",
       "    .dataframe tbody tr th:only-of-type {\n",
       "        vertical-align: middle;\n",
       "    }\n",
       "\n",
       "    .dataframe tbody tr th {\n",
       "        vertical-align: top;\n",
       "    }\n",
       "\n",
       "    .dataframe thead th {\n",
       "        text-align: right;\n",
       "    }\n",
       "</style>\n",
       "<table border=\"1\" class=\"dataframe\">\n",
       "  <thead>\n",
       "    <tr style=\"text-align: right;\">\n",
       "      <th></th>\n",
       "      <th>요일</th>\n",
       "      <th>기온</th>\n",
       "      <th>풍속</th>\n",
       "      <th>new강수량</th>\n",
       "      <th>new적설</th>\n",
       "      <th>new역명</th>\n",
       "      <th>사업체수</th>\n",
       "      <th>인구수</th>\n",
       "      <th>상권수</th>\n",
       "      <th>관광지수</th>\n",
       "      <th>new_비율</th>\n",
       "      <th>혼잡</th>\n",
       "    </tr>\n",
       "  </thead>\n",
       "  <tbody>\n",
       "    <tr>\n",
       "      <th>0</th>\n",
       "      <td>1.0</td>\n",
       "      <td>-2.95</td>\n",
       "      <td>2.90</td>\n",
       "      <td>0</td>\n",
       "      <td>3</td>\n",
       "      <td>197</td>\n",
       "      <td>3182.0</td>\n",
       "      <td>51065.0</td>\n",
       "      <td>9.0</td>\n",
       "      <td>0.0</td>\n",
       "      <td>0.368483</td>\n",
       "      <td>0</td>\n",
       "    </tr>\n",
       "    <tr>\n",
       "      <th>1</th>\n",
       "      <td>2.0</td>\n",
       "      <td>-2.95</td>\n",
       "      <td>2.10</td>\n",
       "      <td>0</td>\n",
       "      <td>3</td>\n",
       "      <td>197</td>\n",
       "      <td>3182.0</td>\n",
       "      <td>51065.0</td>\n",
       "      <td>9.0</td>\n",
       "      <td>0.0</td>\n",
       "      <td>1.011690</td>\n",
       "      <td>0</td>\n",
       "    </tr>\n",
       "    <tr>\n",
       "      <th>2</th>\n",
       "      <td>3.0</td>\n",
       "      <td>-0.65</td>\n",
       "      <td>1.80</td>\n",
       "      <td>0</td>\n",
       "      <td>3</td>\n",
       "      <td>197</td>\n",
       "      <td>3182.0</td>\n",
       "      <td>51065.0</td>\n",
       "      <td>9.0</td>\n",
       "      <td>0.0</td>\n",
       "      <td>1.006313</td>\n",
       "      <td>0</td>\n",
       "    </tr>\n",
       "    <tr>\n",
       "      <th>3</th>\n",
       "      <td>4.0</td>\n",
       "      <td>1.90</td>\n",
       "      <td>1.25</td>\n",
       "      <td>0</td>\n",
       "      <td>3</td>\n",
       "      <td>197</td>\n",
       "      <td>3182.0</td>\n",
       "      <td>51065.0</td>\n",
       "      <td>9.0</td>\n",
       "      <td>0.0</td>\n",
       "      <td>1.101473</td>\n",
       "      <td>0</td>\n",
       "    </tr>\n",
       "    <tr>\n",
       "      <th>4</th>\n",
       "      <td>5.0</td>\n",
       "      <td>-1.80</td>\n",
       "      <td>1.55</td>\n",
       "      <td>0</td>\n",
       "      <td>3</td>\n",
       "      <td>197</td>\n",
       "      <td>3182.0</td>\n",
       "      <td>51065.0</td>\n",
       "      <td>9.0</td>\n",
       "      <td>0.0</td>\n",
       "      <td>0.639233</td>\n",
       "      <td>0</td>\n",
       "    </tr>\n",
       "  </tbody>\n",
       "</table>\n",
       "</div>"
      ],
      "text/plain": [
       "    요일    기온    풍속  new강수량  new적설  new역명    사업체수      인구수  상권수  관광지수  \\\n",
       "0  1.0 -2.95  2.90       0      3    197  3182.0  51065.0  9.0   0.0   \n",
       "1  2.0 -2.95  2.10       0      3    197  3182.0  51065.0  9.0   0.0   \n",
       "2  3.0 -0.65  1.80       0      3    197  3182.0  51065.0  9.0   0.0   \n",
       "3  4.0  1.90  1.25       0      3    197  3182.0  51065.0  9.0   0.0   \n",
       "4  5.0 -1.80  1.55       0      3    197  3182.0  51065.0  9.0   0.0   \n",
       "\n",
       "     new_비율  혼잡  \n",
       "0  0.368483   0  \n",
       "1  1.011690   0  \n",
       "2  1.006313   0  \n",
       "3  1.101473   0  \n",
       "4  0.639233   0  "
      ]
     },
     "execution_count": 130,
     "metadata": {},
     "output_type": "execute_result"
    }
   ],
   "source": [
    "cond = data[data['new_비율']<=5]\n",
    "print(cond.shape)\n",
    "cond.head()"
   ]
  },
  {
   "cell_type": "markdown",
   "id": "dca200aa",
   "metadata": {},
   "source": [
    "# 모든 변수 사용"
   ]
  },
  {
   "cell_type": "code",
   "execution_count": 134,
   "id": "a4da7a06",
   "metadata": {},
   "outputs": [],
   "source": [
    "# 강수량과 적설 제거 \n",
    "X = cond[['요일','기온','new강수량','new적설','풍속','new역명','사업체수','인구수','관광지수','상권수']]\n",
    "y = cond['혼잡']\n",
    "\n",
    "from sklearn.model_selection import train_test_split\n",
    "from imblearn.over_sampling import SMOTE\n",
    "\n",
    "# train, test , validation set으로 나누기 \n",
    "X_train,X_test ,y_train, y_test = train_test_split(X,y,test_size=0.2,stratify=y,random_state=13,shuffle=True)\n",
    "X_train,X_val,y_train,y_val = train_test_split(X_train,y_train,test_size=0.2,random_state=13)\n",
    "X_train.shape,X_val.shape,y_train.shape,y_val.shape\n",
    "\n",
    "\n",
    "smote = SMOTE(random_state=13)\n",
    "X_train_over,y_train_over = smote.fit_resample(X_train,y_train)"
   ]
  },
  {
   "cell_type": "code",
   "execution_count": 135,
   "id": "b5c0a611",
   "metadata": {},
   "outputs": [
    {
     "name": "stdout",
     "output_type": "stream",
     "text": [
      "acc : 0.9557631969106644\n",
      "f1 score 0.6258384368620589\n",
      "[[26647   652]\n",
      " [  631  1073]]\n"
     ]
    },
    {
     "data": {
      "image/png": "[encoded data removed]",
      "text/plain": [
       "<Figure size 720x720 with 1 Axes>"
      ]
     },
     "metadata": {
      "needs_background": "light"
     },
     "output_type": "display_data"
    }
   ],
   "source": [
    "# upsampling 적용\n",
    "train(X_train_over,X_val,y_train_over,y_val)"
   ]
  },
  {
   "cell_type": "markdown",
   "id": "66365326",
   "metadata": {},
   "source": [
    "# new_비율 > 3 인 데이터 제거"
   ]
  },
  {
   "cell_type": "code",
   "execution_count": 140,
   "id": "eb954c90",
   "metadata": {},
   "outputs": [
    {
     "data": {
      "text/plain": [
       "(181127, 12)"
      ]
     },
     "execution_count": 140,
     "metadata": {},
     "output_type": "execute_result"
    }
   ],
   "source": [
    "cond2 = data[data['new_비율']<=3]\n",
    "cond2.shape"
   ]
  },
  {
   "cell_type": "code",
   "execution_count": 147,
   "id": "307cc0d1",
   "metadata": {},
   "outputs": [
    {
     "data": {
      "text/plain": [
       "<AxesSubplot:>"
      ]
     },
     "execution_count": 147,
     "metadata": {},
     "output_type": "execute_result"
    },
    {
     "data": {
      "image/png": "[encoded data removed]",
      "text/plain": [
       "<Figure size 864x720 with 2 Axes>"
      ]
     },
     "metadata": {
      "needs_background": "light"
     },
     "output_type": "display_data"
    }
   ],
   "source": [
    "plt.figure(figsize=(12,10))\n",
    "sns.heatmap(cond2.corr(),annot=True)"
   ]
  },
  {
   "cell_type": "code",
   "execution_count": 146,
   "id": "2524b1dc",
   "metadata": {},
   "outputs": [
    {
     "data": {
      "text/plain": [
       "<AxesSubplot:xlabel='new_비율'>"
      ]
     },
     "execution_count": 146,
     "metadata": {},
     "output_type": "execute_result"
    },
    {
     "data": {
      "image/png": "[encoded data removed]",
      "text/plain": [
       "<Figure size 432x288 with 1 Axes>"
      ]
     },
     "metadata": {
      "needs_background": "light"
     },
     "output_type": "display_data"
    }
   ],
   "source": [
    "sns.boxplot(cond2['new_비율'])"
   ]
  },
  {
   "cell_type": "code",
   "execution_count": 141,
   "id": "f032be6b",
   "metadata": {},
   "outputs": [],
   "source": [
    "# 강수량과 적설 제거 \n",
    "X = cond2[['요일','기온','new강수량','new적설','풍속','new역명','사업체수','인구수','관광지수','상권수']]\n",
    "y = cond2['혼잡']\n",
    "\n",
    "from sklearn.model_selection import train_test_split\n",
    "from imblearn.over_sampling import SMOTE\n",
    "\n",
    "# train, test , validation set으로 나누기 \n",
    "X_train,X_test ,y_train, y_test = train_test_split(X,y,test_size=0.2,stratify=y,random_state=13,shuffle=True)\n",
    "X_train,X_val,y_train,y_val = train_test_split(X_train,y_train,test_size=0.2,random_state=13)\n",
    "X_train.shape,X_val.shape,y_train.shape,y_val.shape\n",
    "\n",
    "\n",
    "smote = SMOTE(random_state=13)\n",
    "X_train_over,y_train_over = smote.fit_resample(X_train,y_train)"
   ]
  },
  {
   "cell_type": "code",
   "execution_count": 142,
   "id": "da1887df",
   "metadata": {},
   "outputs": [
    {
     "name": "stdout",
     "output_type": "stream",
     "text": [
      "acc : 0.9587660881267037\n",
      "f1 score 0.6386452978530389\n",
      "[[26730   653]\n",
      " [  542  1056]]\n"
     ]
    },
    {
     "data": {
      "image/png": "[encoded data removed]",
      "text/plain": [
       "<Figure size 720x720 with 1 Axes>"
      ]
     },
     "metadata": {
      "needs_background": "light"
     },
     "output_type": "display_data"
    }
   ],
   "source": [
    "# upsampling 적용\n",
    "train(X_train_over,X_val,y_train_over,y_val)"
   ]
  },
  {
   "cell_type": "markdown",
   "id": "86be6500",
   "metadata": {},
   "source": [
    "- new_비율이 5이상 또는 3이상인 경우를 제외해보고 모델을 돌려보았다.\n",
    "- upper bounce이상인 데이터를 다 빼는 것을 고민해 보았지만 그렇게 한다면 특정 한역의 데이터가 70%정도 사라지기 때문에 임의로 new_비율 제거 기준을 3과 5를 설정하여 모델링 진행\n",
    "- 그 결과 제거 하고 안하고의 차이가 없는 것으로 판단되었다. "
   ]
  },
  {
   "cell_type": "markdown",
   "id": "5ca8cae6",
   "metadata": {},
   "source": [
    "---"
   ]
  },
  {
   "cell_type": "markdown",
   "id": "84410e46",
   "metadata": {},
   "source": [
    "# 모델링 진행 \n",
    "- 비율의 이상치를 빼지않고 모델링 진행하기로 결정 \n",
    "- 분류 모델을 모두 돌리고 가장 좋은 best model을 설정하기로 하였다.\n",
    "- 데이터는 scaler를 통해 정제해주기로 함\n",
    "- 변수들을 선택적으로 넣어주며 꼭 필요한 변수인가를 확인"
   ]
  },
  {
   "cell_type": "code",
   "execution_count": 718,
   "id": "7534b70f",
   "metadata": {},
   "outputs": [],
   "source": [
    "from sklearn.metrics import precision_score,recall_score,f1_score,roc_auc_score,confusion_matrix\n",
    "def get_clf_eval(y_val,pred):\n",
    "    acc = accuracy_score(y_val,pred)\n",
    "    pre = accuracy_score(y_val,pred)\n",
    "    re = recall_score(y_val,pred)\n",
    "    f1 = f1_score(y_val,pred)\n",
    "    auc = roc_auc_score(y_val,pred)\n",
    "    con_mat = confusion_matrix(y_val,pred)\n",
    "    print(con_mat)\n",
    "    return acc,pre,re,f1,auc\n",
    "\n",
    "def get_result(model,x_t,x_v,y_t,y_v):\n",
    "    model.fit(x_t,y_t)\n",
    "    pred= model.predict(x_v)\n",
    "    return get_clf_eval(y_val,pred)\n",
    "\n",
    "def get_result_pd(models,model_names,X_train,X_val,y_train,y_val):\n",
    "    col_names = ['acc','precision','recall','f1','roc_auc']\n",
    "    tmp = []\n",
    "    for model in models : \n",
    "        tmp.append(get_result(model,X_train,X_val,y_train,y_val))\n",
    "    return pd.DataFrame(tmp,columns=col_names,index=model_names)"
   ]
  },
  {
   "cell_type": "code",
   "execution_count": 714,
   "id": "3ae63c0a",
   "metadata": {},
   "outputs": [
    {
     "data": {
      "text/plain": [
       "[Pipeline(steps=[('Standard scaler', StandardScaler()),\n",
       "                 ('Decision Tree', DecisionTreeClassifier())]),\n",
       " Pipeline(steps=[('Standard scaler', StandardScaler()),\n",
       "                 ('ada', AdaBoostClassifier())]),\n",
       " Pipeline(steps=[('Standard scaler', StandardScaler()),\n",
       "                 ('gb_clf', GradientBoostingClassifier())]),\n",
       " Pipeline(steps=[('Standard scaler', StandardScaler()),\n",
       "                 ('rf_clf', RandomForestClassifier())]),\n",
       " Pipeline(steps=[('Standard scaler', StandardScaler()),\n",
       "                 ('lg_reg', LogisticRegression())]),\n",
       " Pipeline(steps=[('Standard scaler', StandardScaler()),\n",
       "                 ('lgbm', LGBMClassifier())])]"
      ]
     },
     "execution_count": 714,
     "metadata": {},
     "output_type": "execute_result"
    }
   ],
   "source": [
    "from sklearn.pipeline import Pipeline\n",
    "from sklearn.tree import DecisionTreeClassifier\n",
    "from sklearn.ensemble import RandomForestClassifier,AdaBoostClassifier,GradientBoostingClassifier\n",
    "from sklearn.linear_model import LogisticRegression\n",
    "from lightgbm import LGBMClassifier\n",
    "from sklearn.preprocessing import StandardScaler\n",
    "\n",
    "estimators1 = [('Standard scaler',StandardScaler()),\n",
    "             ('Decision Tree',DecisionTreeClassifier())]\n",
    "estimators2 = [('Standard scaler',StandardScaler()),\n",
    "             ('ada',AdaBoostClassifier())]\n",
    "estimators3 = [('Standard scaler',StandardScaler()),\n",
    "             ('gb_clf',GradientBoostingClassifier())]\n",
    "estimators4 = [('Standard scaler',StandardScaler()),\n",
    "             ('rf_clf',RandomForestClassifier())]\n",
    "estimators5 = [('Standard scaler',StandardScaler()),\n",
    "             ('lg_reg',LogisticRegression())]\n",
    "estimators6 = [('Standard scaler',StandardScaler()),\n",
    "             ('lgbm',LGBMClassifier())]\n",
    "\n",
    "models = []\n",
    "model_names = ['Decision Tree','ada','gb_clf','rf_clf','lg_reg','lgbm']\n",
    "models.append(Pipeline(estimators1))\n",
    "models.append(Pipeline(estimators2))\n",
    "models.append(Pipeline(estimators3))\n",
    "models.append(Pipeline(estimators4))\n",
    "models.append(Pipeline(estimators5))\n",
    "models.append(Pipeline(estimators6))\n",
    "models"
   ]
  },
  {
   "cell_type": "markdown",
   "id": "ec5f8535",
   "metadata": {},
   "source": [
    "# 모든 피처 적용\n",
    "- best model : random forest"
   ]
  },
  {
   "cell_type": "code",
   "execution_count": 716,
   "id": "cf94b6df",
   "metadata": {},
   "outputs": [],
   "source": [
    "X = data[['요일','기온','new강수량','new적설','풍속','new역명','사업체수','인구수','상권수','관광지수']]\n",
    "y = data['혼잡']\n",
    "\n",
    "from sklearn.model_selection import train_test_split\n",
    "from imblearn.over_sampling import SMOTE\n",
    "\n",
    "# train, test , validation set으로 나누기 \n",
    "X_train,X_test ,y_train, y_test = train_test_split(X,y,test_size=0.2,stratify=y,random_state=13,shuffle=True)\n",
    "X_train,X_val,y_train,y_val = train_test_split(X_train,y_train,test_size=0.2,random_state=13)\n",
    "X_train.shape,X_val.shape,y_train.shape,y_val.shape\n",
    "\n",
    "\n",
    "smote = SMOTE(random_state=13)\n",
    "X_train_over,y_train_over = smote.fit_resample(X_train,y_train)"
   ]
  },
  {
   "cell_type": "code",
   "execution_count": 719,
   "id": "a9d0202c",
   "metadata": {},
   "outputs": [
    {
     "name": "stdout",
     "output_type": "stream",
     "text": [
      "[[26538   799]\n",
      " [  617  1086]]\n",
      "[[23017  4320]\n",
      " [  559  1144]]\n",
      "[[24365  2972]\n",
      " [  534  1169]]\n",
      "[[26711   626]\n",
      " [  578  1125]]\n",
      "[[18396  8941]\n",
      " [  643  1060]]\n",
      "[[26228  1109]\n",
      " [  426  1277]]\n"
     ]
    },
    {
     "data": {
      "text/html": [
       "<div>\n",
       "<style scoped>\n",
       "    .dataframe tbody tr th:only-of-type {\n",
       "        vertical-align: middle;\n",
       "    }\n",
       "\n",
       "    .dataframe tbody tr th {\n",
       "        vertical-align: top;\n",
       "    }\n",
       "\n",
       "    .dataframe thead th {\n",
       "        text-align: right;\n",
       "    }\n",
       "</style>\n",
       "<table border=\"1\" class=\"dataframe\">\n",
       "  <thead>\n",
       "    <tr style=\"text-align: right;\">\n",
       "      <th></th>\n",
       "      <th>acc</th>\n",
       "      <th>precision</th>\n",
       "      <th>recall</th>\n",
       "      <th>f1</th>\n",
       "      <th>roc_auc</th>\n",
       "    </tr>\n",
       "  </thead>\n",
       "  <tbody>\n",
       "    <tr>\n",
       "      <th>Decision Tree</th>\n",
       "      <td>0.951240</td>\n",
       "      <td>0.951240</td>\n",
       "      <td>0.637698</td>\n",
       "      <td>0.605351</td>\n",
       "      <td>0.804235</td>\n",
       "    </tr>\n",
       "    <tr>\n",
       "      <th>ada</th>\n",
       "      <td>0.831990</td>\n",
       "      <td>0.831990</td>\n",
       "      <td>0.671756</td>\n",
       "      <td>0.319241</td>\n",
       "      <td>0.756864</td>\n",
       "    </tr>\n",
       "    <tr>\n",
       "      <th>gb_clf</th>\n",
       "      <td>0.879270</td>\n",
       "      <td>0.879270</td>\n",
       "      <td>0.686436</td>\n",
       "      <td>0.400068</td>\n",
       "      <td>0.788859</td>\n",
       "    </tr>\n",
       "    <tr>\n",
       "      <th>rf_clf</th>\n",
       "      <td>0.958540</td>\n",
       "      <td>0.958540</td>\n",
       "      <td>0.660599</td>\n",
       "      <td>0.651419</td>\n",
       "      <td>0.818850</td>\n",
       "    </tr>\n",
       "    <tr>\n",
       "      <th>lg_reg</th>\n",
       "      <td>0.669972</td>\n",
       "      <td>0.669972</td>\n",
       "      <td>0.622431</td>\n",
       "      <td>0.181135</td>\n",
       "      <td>0.647683</td>\n",
       "    </tr>\n",
       "    <tr>\n",
       "      <th>lgbm</th>\n",
       "      <td>0.947142</td>\n",
       "      <td>0.947142</td>\n",
       "      <td>0.749853</td>\n",
       "      <td>0.624603</td>\n",
       "      <td>0.854643</td>\n",
       "    </tr>\n",
       "  </tbody>\n",
       "</table>\n",
       "</div>"
      ],
      "text/plain": [
       "                    acc  precision    recall        f1   roc_auc\n",
       "Decision Tree  0.951240   0.951240  0.637698  0.605351  0.804235\n",
       "ada            0.831990   0.831990  0.671756  0.319241  0.756864\n",
       "gb_clf         0.879270   0.879270  0.686436  0.400068  0.788859\n",
       "rf_clf         0.958540   0.958540  0.660599  0.651419  0.818850\n",
       "lg_reg         0.669972   0.669972  0.622431  0.181135  0.647683\n",
       "lgbm           0.947142   0.947142  0.749853  0.624603  0.854643"
      ]
     },
     "execution_count": 719,
     "metadata": {},
     "output_type": "execute_result"
    }
   ],
   "source": [
    "# upsampling 적용함 \n",
    "case1 = get_result_pd(models,model_names,X_train_over,X_val,y_train_over,y_val)\n",
    "case1"
   ]
  },
  {
   "cell_type": "code",
   "execution_count": 622,
   "id": "1f67ce3b",
   "metadata": {},
   "outputs": [
    {
     "data": {
      "image/png": "[encoded data removed]",
      "text/plain": [
       "<Figure size 720x360 with 1 Axes>"
      ]
     },
     "metadata": {
      "needs_background": "light"
     },
     "output_type": "display_data"
    }
   ],
   "source": [
    "plt.figure(figsize=(10,5))\n",
    "def create_x(t, w, n, d):\n",
    "    return [t*x + w*n for x in range(d)]\n",
    "value_a_x = create_x(7, 1, 1, 6)\n",
    "value_b_x = create_x(7, 1, 2, 6)\n",
    "ax = plt.subplot()\n",
    "ax.bar(value_a_x, case1['acc'])\n",
    "ax.bar(value_b_x, case1['f1'])\n",
    "middle_x = [(a+b)/2 for (a,b) in zip(value_a_x, value_b_x)]\n",
    "ax.set_xticks(middle_x)\n",
    "ax.set_xticklabels(case1.index)\n",
    "ax.legend(labels=['acc','f1'],bbox_to_anchor=(1,1))\n",
    "plt.show()\n"
   ]
  },
  {
   "cell_type": "code",
   "execution_count": 733,
   "id": "770c1942",
   "metadata": {
    "scrolled": true
   },
   "outputs": [
    {
     "data": {
      "text/plain": [
       "<AxesSubplot:>"
      ]
     },
     "execution_count": 733,
     "metadata": {},
     "output_type": "execute_result"
    },
    {
     "data": {
      "image/png": "[encoded data removed]",
      "text/plain": [
       "<Figure size 432x288 with 1 Axes>"
      ]
     },
     "metadata": {},
     "output_type": "display_data"
    }
   ],
   "source": [
    "# Acc, F1 Visualization\n",
    "name = ['Accuracy', 'F1 score']\n",
    "value = [0.958540, 0.651419]\n",
    "sns.barplot(x=name, y=value, palette='cool')"
   ]
  },
  {
   "cell_type": "code",
   "execution_count": null,
   "id": "835fb790",
   "metadata": {},
   "outputs": [],
   "source": [
    "# 피처 중요도 \n",
    "models[3].steps[1][1].feature_importances_\n",
    "cols = pd.Series(models[3].steps[1][1].feature_importances_, index=X_train_over.columns).sort_values(ascending=False)\n",
    "plt.figure(figsize=(6,8))\n",
    "sns.barplot(x=cols, y=cols.index, palette='Spectral')\n",
    "plt.show()"
   ]
  },
  {
   "cell_type": "markdown",
   "id": "ca83b17e",
   "metadata": {},
   "source": [
    "# 적설량 강수량 제외 \n",
    "- best model : random forest"
   ]
  },
  {
   "cell_type": "code",
   "execution_count": 721,
   "id": "7bc2daa1",
   "metadata": {},
   "outputs": [],
   "source": [
    "X = data[['요일','기온','풍속','new역명','사업체수','인구수','상권수','관광지수']]\n",
    "y = data['혼잡']\n",
    "\n",
    "from sklearn.model_selection import train_test_split\n",
    "from imblearn.over_sampling import SMOTE\n",
    "\n",
    "# train, test , validation set으로 나누기 \n",
    "X_train,X_test ,y_train, y_test = train_test_split(X,y,test_size=0.2,stratify=y,random_state=13,shuffle=True)\n",
    "X_train,X_val,y_train,y_val = train_test_split(X_train,y_train,test_size=0.2,random_state=13)\n",
    "X_train.shape,X_val.shape,y_train.shape,y_val.shape\n",
    "\n",
    "\n",
    "smote = SMOTE(random_state=13)\n",
    "X_train_over,y_train_over = smote.fit_resample(X_train,y_train)"
   ]
  },
  {
   "cell_type": "code",
   "execution_count": 722,
   "id": "7896d88c",
   "metadata": {},
   "outputs": [
    {
     "name": "stdout",
     "output_type": "stream",
     "text": [
      "[[26545   792]\n",
      " [  636  1067]]\n",
      "[[23104  4233]\n",
      " [  517  1186]]\n",
      "[[24433  2904]\n",
      " [  534  1169]]\n",
      "[[26609   728]\n",
      " [  568  1135]]\n",
      "[[18579  8758]\n",
      " [  627  1076]]\n",
      "[[26257  1080]\n",
      " [  436  1267]]\n"
     ]
    },
    {
     "data": {
      "text/html": [
       "<div>\n",
       "<style scoped>\n",
       "    .dataframe tbody tr th:only-of-type {\n",
       "        vertical-align: middle;\n",
       "    }\n",
       "\n",
       "    .dataframe tbody tr th {\n",
       "        vertical-align: top;\n",
       "    }\n",
       "\n",
       "    .dataframe thead th {\n",
       "        text-align: right;\n",
       "    }\n",
       "</style>\n",
       "<table border=\"1\" class=\"dataframe\">\n",
       "  <thead>\n",
       "    <tr style=\"text-align: right;\">\n",
       "      <th></th>\n",
       "      <th>acc</th>\n",
       "      <th>precision</th>\n",
       "      <th>recall</th>\n",
       "      <th>f1</th>\n",
       "      <th>roc_auc</th>\n",
       "    </tr>\n",
       "  </thead>\n",
       "  <tbody>\n",
       "    <tr>\n",
       "      <th>Decision Tree</th>\n",
       "      <td>0.950826</td>\n",
       "      <td>0.950826</td>\n",
       "      <td>0.626541</td>\n",
       "      <td>0.599102</td>\n",
       "      <td>0.798785</td>\n",
       "    </tr>\n",
       "    <tr>\n",
       "      <th>ada</th>\n",
       "      <td>0.836433</td>\n",
       "      <td>0.836433</td>\n",
       "      <td>0.696418</td>\n",
       "      <td>0.333053</td>\n",
       "      <td>0.770787</td>\n",
       "    </tr>\n",
       "    <tr>\n",
       "      <th>gb_clf</th>\n",
       "      <td>0.881612</td>\n",
       "      <td>0.881612</td>\n",
       "      <td>0.686436</td>\n",
       "      <td>0.404778</td>\n",
       "      <td>0.790103</td>\n",
       "    </tr>\n",
       "    <tr>\n",
       "      <th>rf_clf</th>\n",
       "      <td>0.955372</td>\n",
       "      <td>0.955372</td>\n",
       "      <td>0.666471</td>\n",
       "      <td>0.636568</td>\n",
       "      <td>0.819920</td>\n",
       "    </tr>\n",
       "    <tr>\n",
       "      <th>lg_reg</th>\n",
       "      <td>0.676825</td>\n",
       "      <td>0.676825</td>\n",
       "      <td>0.631826</td>\n",
       "      <td>0.186530</td>\n",
       "      <td>0.655727</td>\n",
       "    </tr>\n",
       "    <tr>\n",
       "      <th>lgbm</th>\n",
       "      <td>0.947796</td>\n",
       "      <td>0.947796</td>\n",
       "      <td>0.743981</td>\n",
       "      <td>0.625679</td>\n",
       "      <td>0.852237</td>\n",
       "    </tr>\n",
       "  </tbody>\n",
       "</table>\n",
       "</div>"
      ],
      "text/plain": [
       "                    acc  precision    recall        f1   roc_auc\n",
       "Decision Tree  0.950826   0.950826  0.626541  0.599102  0.798785\n",
       "ada            0.836433   0.836433  0.696418  0.333053  0.770787\n",
       "gb_clf         0.881612   0.881612  0.686436  0.404778  0.790103\n",
       "rf_clf         0.955372   0.955372  0.666471  0.636568  0.819920\n",
       "lg_reg         0.676825   0.676825  0.631826  0.186530  0.655727\n",
       "lgbm           0.947796   0.947796  0.743981  0.625679  0.852237"
      ]
     },
     "execution_count": 722,
     "metadata": {},
     "output_type": "execute_result"
    }
   ],
   "source": [
    "# upsampling 적용함 \n",
    "case2 = get_result_pd(models,model_names,X_train_over,X_val,y_train_over,y_val)\n",
    "case2"
   ]
  },
  {
   "cell_type": "code",
   "execution_count": 625,
   "id": "7aa7a921",
   "metadata": {},
   "outputs": [
    {
     "data": {
      "image/png": "[encoded data removed]",
      "text/plain": [
       "<Figure size 720x360 with 1 Axes>"
      ]
     },
     "metadata": {
      "needs_background": "light"
     },
     "output_type": "display_data"
    }
   ],
   "source": [
    "plt.figure(figsize=(10,5))\n",
    "def create_x(t, w, n, d):\n",
    "    return [t*x + w*n for x in range(d)]\n",
    "value_a_x = create_x(7, 1, 1, 6)\n",
    "value_b_x = create_x(7, 1, 2, 6)\n",
    "ax = plt.subplot()\n",
    "ax.bar(value_a_x, case2['acc'])\n",
    "ax.bar(value_b_x, case2['f1'])\n",
    "middle_x = [(a+b)/2 for (a,b) in zip(value_a_x, value_b_x)]\n",
    "ax.set_xticks(middle_x)\n",
    "ax.set_xticklabels(case2.index)\n",
    "ax.legend(labels=['acc','f1'],bbox_to_anchor=(1,1))\n",
    "plt.show()"
   ]
  },
  {
   "cell_type": "code",
   "execution_count": 734,
   "id": "f666d7c1",
   "metadata": {
    "scrolled": true
   },
   "outputs": [
    {
     "data": {
      "text/plain": [
       "<AxesSubplot:>"
      ]
     },
     "execution_count": 734,
     "metadata": {},
     "output_type": "execute_result"
    },
    {
     "data": {
      "image/png": "[encoded data removed]",
      "text/plain": [
       "<Figure size 432x288 with 1 Axes>"
      ]
     },
     "metadata": {},
     "output_type": "display_data"
    }
   ],
   "source": [
    "# Acc, F1 Visualization\n",
    "name = ['Accuracy', 'F1 score']\n",
    "value = [0.955372, 0.636568]\n",
    "sns.barplot(x=name, y=value, palette='cool')"
   ]
  },
  {
   "cell_type": "code",
   "execution_count": null,
   "id": "c15ecf8c",
   "metadata": {},
   "outputs": [],
   "source": [
    "# 피처 중요도 \n",
    "models[3].steps[1][1].feature_importances_\n",
    "cols = pd.Series(models[3].steps[1][1].feature_importances_, index=X_train_over.columns).sort_values(ascending=False)\n",
    "plt.figure(figsize=(6,8))\n",
    "sns.barplot(x=cols, y=cols.index, palette='Spectral')\n",
    "plt.show()"
   ]
  },
  {
   "cell_type": "markdown",
   "id": "b061a71f",
   "metadata": {},
   "source": [
    "# 상권수 , 관광지수 제외 \n",
    "- best model : random forest"
   ]
  },
  {
   "cell_type": "code",
   "execution_count": 723,
   "id": "3dc52d10",
   "metadata": {},
   "outputs": [],
   "source": [
    "X = data[['요일','기온','new강수량','new적설','풍속','new역명','사업체수','인구수']]\n",
    "y = data['혼잡']\n",
    "\n",
    "from sklearn.model_selection import train_test_split\n",
    "from imblearn.over_sampling import SMOTE\n",
    "\n",
    "# train, test , validation set으로 나누기 \n",
    "X_train,X_test ,y_train, y_test = train_test_split(X,y,test_size=0.2,stratify=y,random_state=13,shuffle=True)\n",
    "X_train,X_val,y_train,y_val = train_test_split(X_train,y_train,test_size=0.2,random_state=13)\n",
    "X_train.shape,X_val.shape,y_train.shape,y_val.shape\n",
    "\n",
    "\n",
    "smote = SMOTE(random_state=13)\n",
    "X_train_over,y_train_over = smote.fit_resample(X_train,y_train)"
   ]
  },
  {
   "cell_type": "code",
   "execution_count": 724,
   "id": "fdb6ddb9",
   "metadata": {},
   "outputs": [
    {
     "name": "stdout",
     "output_type": "stream",
     "text": [
      "[[26560   777]\n",
      " [  637  1066]]\n",
      "[[23183  4154]\n",
      " [  608  1095]]\n",
      "[[24091  3246]\n",
      " [  565  1138]]\n",
      "[[26778   559]\n",
      " [  596  1107]]\n",
      "[[15852 11485]\n",
      " [  657  1046]]\n",
      "[[26263  1074]\n",
      " [  424  1279]]\n"
     ]
    },
    {
     "data": {
      "text/html": [
       "<div>\n",
       "<style scoped>\n",
       "    .dataframe tbody tr th:only-of-type {\n",
       "        vertical-align: middle;\n",
       "    }\n",
       "\n",
       "    .dataframe tbody tr th {\n",
       "        vertical-align: top;\n",
       "    }\n",
       "\n",
       "    .dataframe thead th {\n",
       "        text-align: right;\n",
       "    }\n",
       "</style>\n",
       "<table border=\"1\" class=\"dataframe\">\n",
       "  <thead>\n",
       "    <tr style=\"text-align: right;\">\n",
       "      <th></th>\n",
       "      <th>acc</th>\n",
       "      <th>precision</th>\n",
       "      <th>recall</th>\n",
       "      <th>f1</th>\n",
       "      <th>roc_auc</th>\n",
       "    </tr>\n",
       "  </thead>\n",
       "  <tbody>\n",
       "    <tr>\n",
       "      <th>Decision Tree</th>\n",
       "      <td>0.951309</td>\n",
       "      <td>0.951309</td>\n",
       "      <td>0.625954</td>\n",
       "      <td>0.601241</td>\n",
       "      <td>0.798766</td>\n",
       "    </tr>\n",
       "    <tr>\n",
       "      <th>ada</th>\n",
       "      <td>0.836019</td>\n",
       "      <td>0.836019</td>\n",
       "      <td>0.642983</td>\n",
       "      <td>0.315017</td>\n",
       "      <td>0.745514</td>\n",
       "    </tr>\n",
       "    <tr>\n",
       "      <th>gb_clf</th>\n",
       "      <td>0.868767</td>\n",
       "      <td>0.868767</td>\n",
       "      <td>0.668233</td>\n",
       "      <td>0.373912</td>\n",
       "      <td>0.774746</td>\n",
       "    </tr>\n",
       "    <tr>\n",
       "      <th>rf_clf</th>\n",
       "      <td>0.960227</td>\n",
       "      <td>0.960227</td>\n",
       "      <td>0.650029</td>\n",
       "      <td>0.657168</td>\n",
       "      <td>0.814790</td>\n",
       "    </tr>\n",
       "    <tr>\n",
       "      <th>lg_reg</th>\n",
       "      <td>0.581887</td>\n",
       "      <td>0.581887</td>\n",
       "      <td>0.614210</td>\n",
       "      <td>0.146972</td>\n",
       "      <td>0.597042</td>\n",
       "    </tr>\n",
       "    <tr>\n",
       "      <th>lgbm</th>\n",
       "      <td>0.948416</td>\n",
       "      <td>0.948416</td>\n",
       "      <td>0.751028</td>\n",
       "      <td>0.630671</td>\n",
       "      <td>0.855870</td>\n",
       "    </tr>\n",
       "  </tbody>\n",
       "</table>\n",
       "</div>"
      ],
      "text/plain": [
       "                    acc  precision    recall        f1   roc_auc\n",
       "Decision Tree  0.951309   0.951309  0.625954  0.601241  0.798766\n",
       "ada            0.836019   0.836019  0.642983  0.315017  0.745514\n",
       "gb_clf         0.868767   0.868767  0.668233  0.373912  0.774746\n",
       "rf_clf         0.960227   0.960227  0.650029  0.657168  0.814790\n",
       "lg_reg         0.581887   0.581887  0.614210  0.146972  0.597042\n",
       "lgbm           0.948416   0.948416  0.751028  0.630671  0.855870"
      ]
     },
     "execution_count": 724,
     "metadata": {},
     "output_type": "execute_result"
    }
   ],
   "source": [
    "# upsampling 적용함 \n",
    "case3 = get_result_pd(models,model_names,X_train_over,X_val,y_train_over,y_val)\n",
    "case3"
   ]
  },
  {
   "cell_type": "code",
   "execution_count": 628,
   "id": "df5a0c61",
   "metadata": {},
   "outputs": [
    {
     "data": {
      "image/png": "[encoded data removed]",
      "text/plain": [
       "<Figure size 720x360 with 1 Axes>"
      ]
     },
     "metadata": {
      "needs_background": "light"
     },
     "output_type": "display_data"
    }
   ],
   "source": [
    "plt.figure(figsize=(10,5))\n",
    "def create_x(t, w, n, d):\n",
    "    return [t*x + w*n for x in range(d)]\n",
    "value_a_x = create_x(7, 1, 1, 6)\n",
    "value_b_x = create_x(7, 1, 2, 6)\n",
    "ax = plt.subplot()\n",
    "ax.bar(value_a_x, case3['acc'])\n",
    "ax.bar(value_b_x, case3['f1'])\n",
    "middle_x = [(a+b)/2 for (a,b) in zip(value_a_x, value_b_x)]\n",
    "ax.set_xticks(middle_x)\n",
    "ax.set_xticklabels(case3.index)\n",
    "ax.legend(labels=['acc','f1'],bbox_to_anchor=(1,1))\n",
    "plt.show()"
   ]
  },
  {
   "cell_type": "code",
   "execution_count": 735,
   "id": "ea01150b",
   "metadata": {
    "scrolled": true
   },
   "outputs": [
    {
     "data": {
      "text/plain": [
       "<AxesSubplot:>"
      ]
     },
     "execution_count": 735,
     "metadata": {},
     "output_type": "execute_result"
    },
    {
     "data": {
      "image/png": "[encoded data removed]",
      "text/plain": [
       "<Figure size 432x288 with 1 Axes>"
      ]
     },
     "metadata": {},
     "output_type": "display_data"
    }
   ],
   "source": [
    "# Acc, F1 Visualization\n",
    "name = ['Accuracy', 'F1 score']\n",
    "value = [0.960227, 0.657168]\n",
    "sns.barplot(x=name, y=value, palette='cool')"
   ]
  },
  {
   "cell_type": "code",
   "execution_count": null,
   "id": "1f67ad61",
   "metadata": {},
   "outputs": [],
   "source": [
    "# 피처 중요도 \n",
    "models[3].steps[1][1].feature_importances_\n",
    "cols = pd.Series(models[3].steps[1][1].feature_importances_, index=X_train_over.columns).sort_values(ascending=False)\n",
    "plt.figure(figsize=(6,8))\n",
    "sns.barplot(x=cols, y=cols.index, palette='Spectral')\n",
    "plt.show()"
   ]
  },
  {
   "cell_type": "markdown",
   "id": "eb747c06",
   "metadata": {},
   "source": [
    "# 요일 제외 - 주기성 데이터 제외\n",
    "- best model : lgbm"
   ]
  },
  {
   "cell_type": "code",
   "execution_count": 725,
   "id": "99108e1c",
   "metadata": {},
   "outputs": [],
   "source": [
    "X = data[['기온','new강수량','new적설','풍속','new역명','사업체수','인구수','상권수','관광지수']]\n",
    "y = data['혼잡']\n",
    "\n",
    "from sklearn.model_selection import train_test_split\n",
    "from imblearn.over_sampling import SMOTE\n",
    "\n",
    "# train, test , validation set으로 나누기 \n",
    "X_train,X_test ,y_train, y_test = train_test_split(X,y,test_size=0.2,stratify=y,random_state=13,shuffle=True)\n",
    "X_train,X_val,y_train,y_val = train_test_split(X_train,y_train,test_size=0.2,random_state=13)\n",
    "X_train.shape,X_val.shape,y_train.shape,y_val.shape\n",
    "\n",
    "\n",
    "smote = SMOTE(random_state=13)\n",
    "X_train_over,y_train_over = smote.fit_resample(X_train,y_train)"
   ]
  },
  {
   "cell_type": "code",
   "execution_count": 726,
   "id": "d35d18c1",
   "metadata": {},
   "outputs": [
    {
     "name": "stdout",
     "output_type": "stream",
     "text": [
      "[[25374  1963]\n",
      " [  688  1015]]\n",
      "[[20043  7294]\n",
      " [  502  1201]]\n",
      "[[21320  6017]\n",
      " [  384  1319]]\n",
      "[[24827  2510]\n",
      " [  726   977]]\n",
      "[[18400  8937]\n",
      " [  643  1060]]\n",
      "[[25617  1720]\n",
      " [  642  1061]]\n"
     ]
    },
    {
     "data": {
      "text/html": [
       "<div>\n",
       "<style scoped>\n",
       "    .dataframe tbody tr th:only-of-type {\n",
       "        vertical-align: middle;\n",
       "    }\n",
       "\n",
       "    .dataframe tbody tr th {\n",
       "        vertical-align: top;\n",
       "    }\n",
       "\n",
       "    .dataframe thead th {\n",
       "        text-align: right;\n",
       "    }\n",
       "</style>\n",
       "<table border=\"1\" class=\"dataframe\">\n",
       "  <thead>\n",
       "    <tr style=\"text-align: right;\">\n",
       "      <th></th>\n",
       "      <th>acc</th>\n",
       "      <th>precision</th>\n",
       "      <th>recall</th>\n",
       "      <th>f1</th>\n",
       "      <th>roc_auc</th>\n",
       "    </tr>\n",
       "  </thead>\n",
       "  <tbody>\n",
       "    <tr>\n",
       "      <th>Decision Tree</th>\n",
       "      <td>0.908712</td>\n",
       "      <td>0.908712</td>\n",
       "      <td>0.596007</td>\n",
       "      <td>0.433668</td>\n",
       "      <td>0.762100</td>\n",
       "    </tr>\n",
       "    <tr>\n",
       "      <th>ada</th>\n",
       "      <td>0.731543</td>\n",
       "      <td>0.731543</td>\n",
       "      <td>0.705226</td>\n",
       "      <td>0.235536</td>\n",
       "      <td>0.719204</td>\n",
       "    </tr>\n",
       "    <tr>\n",
       "      <th>gb_clf</th>\n",
       "      <td>0.779580</td>\n",
       "      <td>0.779580</td>\n",
       "      <td>0.774516</td>\n",
       "      <td>0.291846</td>\n",
       "      <td>0.777205</td>\n",
       "    </tr>\n",
       "    <tr>\n",
       "      <th>rf_clf</th>\n",
       "      <td>0.888567</td>\n",
       "      <td>0.888567</td>\n",
       "      <td>0.573693</td>\n",
       "      <td>0.376493</td>\n",
       "      <td>0.740938</td>\n",
       "    </tr>\n",
       "    <tr>\n",
       "      <th>lg_reg</th>\n",
       "      <td>0.670110</td>\n",
       "      <td>0.670110</td>\n",
       "      <td>0.622431</td>\n",
       "      <td>0.181197</td>\n",
       "      <td>0.647756</td>\n",
       "    </tr>\n",
       "    <tr>\n",
       "      <th>lgbm</th>\n",
       "      <td>0.918664</td>\n",
       "      <td>0.918664</td>\n",
       "      <td>0.623018</td>\n",
       "      <td>0.473238</td>\n",
       "      <td>0.780050</td>\n",
       "    </tr>\n",
       "  </tbody>\n",
       "</table>\n",
       "</div>"
      ],
      "text/plain": [
       "                    acc  precision    recall        f1   roc_auc\n",
       "Decision Tree  0.908712   0.908712  0.596007  0.433668  0.762100\n",
       "ada            0.731543   0.731543  0.705226  0.235536  0.719204\n",
       "gb_clf         0.779580   0.779580  0.774516  0.291846  0.777205\n",
       "rf_clf         0.888567   0.888567  0.573693  0.376493  0.740938\n",
       "lg_reg         0.670110   0.670110  0.622431  0.181197  0.647756\n",
       "lgbm           0.918664   0.918664  0.623018  0.473238  0.780050"
      ]
     },
     "execution_count": 726,
     "metadata": {},
     "output_type": "execute_result"
    }
   ],
   "source": [
    "# upsampling 적용함 \n",
    "case4 = get_result_pd(models,model_names,X_train_over,X_val,y_train_over,y_val)\n",
    "case4"
   ]
  },
  {
   "cell_type": "code",
   "execution_count": 631,
   "id": "8a015fe3",
   "metadata": {},
   "outputs": [
    {
     "data": {
      "image/png": "[encoded data removed]",
      "text/plain": [
       "<Figure size 720x360 with 1 Axes>"
      ]
     },
     "metadata": {
      "needs_background": "light"
     },
     "output_type": "display_data"
    }
   ],
   "source": [
    "plt.figure(figsize=(10,5))\n",
    "def create_x(t, w, n, d):\n",
    "    return [t*x + w*n for x in range(d)]\n",
    "value_a_x = create_x(7, 1, 1, 6)\n",
    "value_b_x = create_x(7, 1, 2, 6)\n",
    "ax = plt.subplot()\n",
    "ax.bar(value_a_x, case4['acc'])\n",
    "ax.bar(value_b_x, case4['f1'])\n",
    "middle_x = [(a+b)/2 for (a,b) in zip(value_a_x, value_b_x)]\n",
    "ax.set_xticks(middle_x)\n",
    "ax.set_xticklabels(case4.index)\n",
    "ax.legend(labels=['acc','f1'],bbox_to_anchor=(1,1))\n",
    "plt.show()"
   ]
  },
  {
   "cell_type": "code",
   "execution_count": 750,
   "id": "01d65d4f",
   "metadata": {},
   "outputs": [
    {
     "data": {
      "text/plain": [
       "<AxesSubplot:>"
      ]
     },
     "execution_count": 750,
     "metadata": {},
     "output_type": "execute_result"
    },
    {
     "data": {
      "image/png": "[encoded data removed]",
      "text/plain": [
       "<Figure size 432x288 with 1 Axes>"
      ]
     },
     "metadata": {
      "needs_background": "light"
     },
     "output_type": "display_data"
    }
   ],
   "source": [
    "# Acc, F1 Visualization\n",
    "name = ['Accuracy', 'F1 score']\n",
    "value = [0.918664, 0.473238]\n",
    "sns.barplot(x=name, y=value, palette='cool')"
   ]
  },
  {
   "cell_type": "code",
   "execution_count": 737,
   "id": "6505fd60",
   "metadata": {},
   "outputs": [
    {
     "data": {
      "text/plain": [
       "<AxesSubplot:title={'center':'Feature importance'}, xlabel='Feature importance', ylabel='Features'>"
      ]
     },
     "execution_count": 737,
     "metadata": {},
     "output_type": "execute_result"
    },
    {
     "data": {
      "image/png": "[encoded data removed]",
      "text/plain": [
       "<Figure size 720x720 with 1 Axes>"
      ]
     },
     "metadata": {
      "needs_background": "light"
     },
     "output_type": "display_data"
    }
   ],
   "source": [
    "# 피처 중요도 \n",
    "from lightgbm import plot_importance\n",
    "import matplotlib.pyplot as plt\n",
    "%matplotlib inline\n",
    "\n",
    "fig, ax = plt.subplots(figsize=(10, 10))\n",
    "plot_importance(models[5].steps[1][1], ax=ax.i)"
   ]
  },
  {
   "cell_type": "markdown",
   "id": "ca6e85af",
   "metadata": {},
   "source": [
    "# 날씨 데이터 제외  - 매일 변하는 데이터\n",
    "- best model : random forest"
   ]
  },
  {
   "cell_type": "code",
   "execution_count": 727,
   "id": "83fa4a26",
   "metadata": {},
   "outputs": [],
   "source": [
    "X = data[['요일','new역명','사업체수','인구수','상권수','관광지수']]\n",
    "y = data['혼잡']\n",
    "\n",
    "from sklearn.model_selection import train_test_split\n",
    "from imblearn.over_sampling import SMOTE\n",
    "\n",
    "# train, test , validation set으로 나누기 \n",
    "X_train,X_test ,y_train, y_test = train_test_split(X,y,test_size=0.2,stratify=y,random_state=13,shuffle=True)\n",
    "X_train,X_val,y_train,y_val = train_test_split(X_train,y_train,test_size=0.2,random_state=13)\n",
    "X_train.shape,X_val.shape,y_train.shape,y_val.shape\n",
    "\n",
    "\n",
    "smote = SMOTE(random_state=13)\n",
    "X_train_over,y_train_over = smote.fit_resample(X_train,y_train)"
   ]
  },
  {
   "cell_type": "code",
   "execution_count": 728,
   "id": "e62a905e",
   "metadata": {},
   "outputs": [
    {
     "name": "stdout",
     "output_type": "stream",
     "text": [
      "[[24276  3061]\n",
      " [  343  1360]]\n",
      "[[21161  6176]\n",
      " [  382  1321]]\n",
      "[[22435  4902]\n",
      " [  317  1386]]\n",
      "[[24253  3084]\n",
      " [  341  1362]]\n",
      "[[18999  8338]\n",
      " [  666  1037]]\n",
      "[[24087  3250]\n",
      " [  286  1417]]\n"
     ]
    },
    {
     "data": {
      "text/html": [
       "<div>\n",
       "<style scoped>\n",
       "    .dataframe tbody tr th:only-of-type {\n",
       "        vertical-align: middle;\n",
       "    }\n",
       "\n",
       "    .dataframe tbody tr th {\n",
       "        vertical-align: top;\n",
       "    }\n",
       "\n",
       "    .dataframe thead th {\n",
       "        text-align: right;\n",
       "    }\n",
       "</style>\n",
       "<table border=\"1\" class=\"dataframe\">\n",
       "  <thead>\n",
       "    <tr style=\"text-align: right;\">\n",
       "      <th></th>\n",
       "      <th>acc</th>\n",
       "      <th>precision</th>\n",
       "      <th>recall</th>\n",
       "      <th>f1</th>\n",
       "      <th>roc_auc</th>\n",
       "    </tr>\n",
       "  </thead>\n",
       "  <tbody>\n",
       "    <tr>\n",
       "      <th>Decision Tree</th>\n",
       "      <td>0.882782</td>\n",
       "      <td>0.882782</td>\n",
       "      <td>0.798591</td>\n",
       "      <td>0.444154</td>\n",
       "      <td>0.843309</td>\n",
       "    </tr>\n",
       "    <tr>\n",
       "      <th>ada</th>\n",
       "      <td>0.774174</td>\n",
       "      <td>0.774174</td>\n",
       "      <td>0.775690</td>\n",
       "      <td>0.287174</td>\n",
       "      <td>0.774885</td>\n",
       "    </tr>\n",
       "    <tr>\n",
       "      <th>gb_clf</th>\n",
       "      <td>0.820282</td>\n",
       "      <td>0.820282</td>\n",
       "      <td>0.813858</td>\n",
       "      <td>0.346890</td>\n",
       "      <td>0.817270</td>\n",
       "    </tr>\n",
       "    <tr>\n",
       "      <th>rf_clf</th>\n",
       "      <td>0.882059</td>\n",
       "      <td>0.882059</td>\n",
       "      <td>0.799765</td>\n",
       "      <td>0.442999</td>\n",
       "      <td>0.843475</td>\n",
       "    </tr>\n",
       "    <tr>\n",
       "      <th>lg_reg</th>\n",
       "      <td>0.689945</td>\n",
       "      <td>0.689945</td>\n",
       "      <td>0.608925</td>\n",
       "      <td>0.187218</td>\n",
       "      <td>0.651959</td>\n",
       "    </tr>\n",
       "    <tr>\n",
       "      <th>lgbm</th>\n",
       "      <td>0.878237</td>\n",
       "      <td>0.878237</td>\n",
       "      <td>0.832061</td>\n",
       "      <td>0.444898</td>\n",
       "      <td>0.856587</td>\n",
       "    </tr>\n",
       "  </tbody>\n",
       "</table>\n",
       "</div>"
      ],
      "text/plain": [
       "                    acc  precision    recall        f1   roc_auc\n",
       "Decision Tree  0.882782   0.882782  0.798591  0.444154  0.843309\n",
       "ada            0.774174   0.774174  0.775690  0.287174  0.774885\n",
       "gb_clf         0.820282   0.820282  0.813858  0.346890  0.817270\n",
       "rf_clf         0.882059   0.882059  0.799765  0.442999  0.843475\n",
       "lg_reg         0.689945   0.689945  0.608925  0.187218  0.651959\n",
       "lgbm           0.878237   0.878237  0.832061  0.444898  0.856587"
      ]
     },
     "execution_count": 728,
     "metadata": {},
     "output_type": "execute_result"
    }
   ],
   "source": [
    "# upsampling 적용함 \n",
    "case5 = get_result_pd(models,model_names,X_train_over,X_val,y_train_over,y_val)\n",
    "case5"
   ]
  },
  {
   "cell_type": "code",
   "execution_count": 634,
   "id": "2f0bd8af",
   "metadata": {},
   "outputs": [
    {
     "data": {
      "image/png": "[encoded data removed]",
      "text/plain": [
       "<Figure size 720x360 with 1 Axes>"
      ]
     },
     "metadata": {
      "needs_background": "light"
     },
     "output_type": "display_data"
    }
   ],
   "source": [
    "plt.figure(figsize=(10,5))\n",
    "def create_x(t, w, n, d):\n",
    "    return [t*x + w*n for x in range(d)]\n",
    "value_a_x = create_x(7, 1, 1, 6)\n",
    "value_b_x = create_x(7, 1, 2, 6)\n",
    "ax = plt.subplot()\n",
    "ax.bar(value_a_x, case5['acc'])\n",
    "ax.bar(value_b_x, case5['f1'])\n",
    "middle_x = [(a+b)/2 for (a,b) in zip(value_a_x, value_b_x)]\n",
    "ax.set_xticks(middle_x)\n",
    "ax.set_xticklabels(case5.index)\n",
    "ax.legend(labels=['acc','f1'],bbox_to_anchor=(1,1))\n",
    "plt.show()"
   ]
  },
  {
   "cell_type": "code",
   "execution_count": 751,
   "id": "29989f92",
   "metadata": {},
   "outputs": [
    {
     "data": {
      "text/plain": [
       "<AxesSubplot:>"
      ]
     },
     "execution_count": 751,
     "metadata": {},
     "output_type": "execute_result"
    },
    {
     "data": {
      "image/png": "[encoded data removed]",
      "text/plain": [
       "<Figure size 432x288 with 1 Axes>"
      ]
     },
     "metadata": {
      "needs_background": "light"
     },
     "output_type": "display_data"
    }
   ],
   "source": [
    "# Acc, F1 Visualization\n",
    "name = ['Accuracy', 'F1 score']\n",
    "value = [0.882059, 0.442999]\n",
    "sns.barplot(x=name, y=value, palette='cool')"
   ]
  },
  {
   "cell_type": "code",
   "execution_count": 749,
   "id": "c0428f57",
   "metadata": {},
   "outputs": [
    {
     "data": {
      "image/png": "[encoded data removed]",
      "text/plain": [
       "<Figure size 432x576 with 1 Axes>"
      ]
     },
     "metadata": {
      "needs_background": "light"
     },
     "output_type": "display_data"
    }
   ],
   "source": [
    "# 피처 중요도 \n",
    "models[3].steps[1][1].feature_importances_\n",
    "cols = pd.Series(models[3].steps[1][1].feature_importances_, index=X_train_over.columns).sort_values(ascending=False)\n",
    "plt.figure(figsize=(6,8))\n",
    "sns.barplot(x=cols, y=cols.index, palette='Spectral')\n",
    "plt.show()"
   ]
  },
  {
   "cell_type": "markdown",
   "id": "807247c9",
   "metadata": {},
   "source": [
    "---"
   ]
  },
  {
   "cell_type": "markdown",
   "id": "a82dc27a",
   "metadata": {},
   "source": [
    "# 최종 모델 선택\n",
    "- case1과 case3 비교시 모든 변수를 다 넣지 않았을 때 acc 가 0.002, f1 score가 0.007정도 상승하였다.\n",
    "- 즉 관광지수와 상권수가 모델의 성능을 오히려 저하할 수도 있다는 판단을 내렸다. \n",
    "- 그에따라 case3의 피처들과 랜덤포레스트 모델을 최종적으로 선택"
   ]
  },
  {
   "cell_type": "markdown",
   "id": "d507633b",
   "metadata": {},
   "source": [
    "## 최종 모델로 test데이터를 얼마나 맞추는지 확인"
   ]
  },
  {
   "cell_type": "code",
   "execution_count": 753,
   "id": "23e6eabe",
   "metadata": {},
   "outputs": [
    {
     "data": {
      "text/plain": [
       "(36300, 6)"
      ]
     },
     "execution_count": 753,
     "metadata": {},
     "output_type": "execute_result"
    }
   ],
   "source": [
    "X_test.shape"
   ]
  },
  {
   "cell_type": "code",
   "execution_count": 174,
   "id": "895de316",
   "metadata": {},
   "outputs": [
    {
     "name": "stdout",
     "output_type": "stream",
     "text": [
      "(1440, 8)\n",
      "['을지로4가']\n",
      "['동대문역사문화공원']\n",
      "['동대입구']\n",
      "['종합운동장']\n",
      "['한양대']\n",
      "['시청']\n",
      "['한강진']\n",
      "['종로3가']\n",
      "['여의나루']\n",
      "['충무로']\n"
     ]
    }
   ],
   "source": [
    "pred_test = Pipeline(estimators4).predict(X_test)\n",
    "wrong = X_test[y_test!=pred_test]\n",
    "print(wrong.shape)\n",
    "wrong_list = wrong['new역명'].value_counts()[:10].index\n",
    "# 가장 많이 틀린 역 top 10 \n",
    "for x in wrong_list : \n",
    "    print(df[df['new역명']==x]['역명'].unique())"
   ]
  },
  {
   "cell_type": "code",
   "execution_count": 177,
   "id": "3f985fd7",
   "metadata": {},
   "outputs": [
    {
     "data": {
      "text/plain": [
       "<AxesSubplot:xlabel='요일', ylabel='count'>"
      ]
     },
     "execution_count": 177,
     "metadata": {},
     "output_type": "execute_result"
    },
    {
     "data": {
      "image/png": "[encoded data removed]",
      "text/plain": [
       "<Figure size 432x288 with 1 Axes>"
      ]
     },
     "metadata": {
      "needs_background": "light"
     },
     "output_type": "display_data"
    }
   ],
   "source": [
    "sns.countplot(wrong['요일'])"
   ]
  },
  {
   "cell_type": "code",
   "execution_count": 191,
   "id": "afb4bf1b",
   "metadata": {},
   "outputs": [
    {
     "data": {
      "text/plain": [
       "<AxesSubplot:ylabel='new역명'>"
      ]
     },
     "execution_count": 191,
     "metadata": {},
     "output_type": "execute_result"
    },
    {
     "data": {
      "image/png": "[encoded data removed]",
      "text/plain": [
       "<Figure size 432x288 with 1 Axes>"
      ]
     },
     "metadata": {
      "needs_background": "light"
     },
     "output_type": "display_data"
    }
   ],
   "source": [
    "sns.barplot(x=wrong_list[:10].index,y=wrong_list[:10])"
   ]
  },
  {
   "cell_type": "markdown",
   "id": "cffbf3d4",
   "metadata": {},
   "source": [
    "---"
   ]
  },
  {
   "cell_type": "markdown",
   "id": "0b29df2f",
   "metadata": {},
   "source": [
    "### 모델의 서비스화를 위해 2021년 최신 인구 데이터 정보 가져옴\n",
    "- 이전데이터와 같은 형식으로 전처리 진행"
   ]
  },
  {
   "cell_type": "code",
   "execution_count": 432,
   "id": "9fb3c44f",
   "metadata": {},
   "outputs": [],
   "source": [
    "# 2021년데이터 \n",
    "people2021 = pd.read_excel('../data/2021년 인구수.xls',header=0,usecols=\"A,B,C,D,E\")\n",
    "people2021 = people2021[3:].reset_index().drop(['index','기간'],axis=1)\n",
    "people2021['address'] = people2021['자치구']+people2021['동']\n",
    "people2021 = people2021[people2021['구분']=='계']\n",
    "p = people2021[['address','계']]\n"
   ]
  },
  {
   "cell_type": "code",
   "execution_count": 440,
   "id": "0e34b931",
   "metadata": {},
   "outputs": [
    {
     "name": "stdout",
     "output_type": "stream",
     "text": [
      "['종로구창신1동', '종로구창신2동', '종로구창신3동']\n",
      "['종로구숭인1동', '종로구숭인2동']\n",
      "['중구신당5동']\n",
      "['용산구용산2가동']\n",
      "['용산구원효로2동', '용산구원효로1동']\n",
      "['용산구이촌1동', '용산구이촌2동']\n",
      "['용산구이태원1동', '용산구이태원2동']\n",
      "['성동구왕십리2동']\n",
      "['성동구행당1동', '성동구행당2동']\n",
      "['성동구금호1가동', '성동구금호4가동', '성동구금호2.3가동']\n",
      "['성동구성수1가1동', '성동구성수1가2동', '성동구성수2가1동', '성동구성수2가3동']\n",
      "['광진구중곡1동', '광진구중곡2동', '광진구중곡3동', '광진구중곡4동']\n",
      "['광진구구의1동', '광진구구의2동', '광진구구의3동']\n",
      "['광진구자양1동', '광진구자양2동', '광진구자양3동', '광진구자양4동']\n",
      "['동대문구휘경1동', '동대문구휘경2동']\n",
      "['동대문구전농1동', '동대문구전농2동']\n",
      "['동대문구답십리2동', '동대문구답십리1동']\n",
      "['동대문구장안1동', '동대문구장안2동']\n",
      "['동대문구이문1동', '동대문구이문2동']\n",
      "['중랑구면목2동', '중랑구면목4동', '중랑구면목5동', '중랑구면목7동', '중랑구면목3.8동']\n",
      "['중랑구상봉1동', '중랑구상봉2동']\n",
      "['중랑구중화1동', '중랑구중화2동']\n",
      "['중랑구묵1동', '중랑구묵2동']\n",
      "['중랑구망우3동']\n",
      "['중랑구신내1동', '중랑구신내2동']\n",
      "['성북구돈암1동', '성북구돈암2동']\n",
      "['성북구정릉1동', '성북구정릉2동', '성북구정릉3동', '성북구정릉4동']\n",
      "['성북구길음1동', '성북구길음2동']\n",
      "['성북구월곡1동', '성북구월곡2동']\n",
      "['성북구장위1동', '성북구장위2동', '성북구장위3동']\n",
      "['강북구번1동', '강북구번2동', '강북구번3동']\n",
      "['강북구수유1동', '강북구수유2동', '강북구수유3동']\n",
      "['도봉구쌍문1동', '도봉구쌍문2동', '도봉구쌍문3동', '도봉구쌍문4동']\n",
      "['도봉구방학1동', '도봉구방학2동', '도봉구방학3동']\n",
      "['도봉구창1동', '도봉구창2동', '도봉구창3동', '도봉구창4동', '도봉구창5동']\n",
      "['도봉구도봉1동', '도봉구도봉2동']\n",
      "['노원구월계1동', '노원구월계2동', '노원구월계3동']\n",
      "['노원구공릉2동', '노원구공릉1동']\n",
      "['노원구하계1동', '노원구하계2동']\n",
      "['노원구중계1동', '노원구중계4동', '노원구중계2.3동']\n",
      "['노원구상계1동', '노원구상계2동', '노원구상계5동', '노원구상계8동', '노원구상계9동', '노원구상계10동', '노원구상계3.4동', '노원구상계6.7동']\n",
      "['은평구불광1동', '은평구불광2동']\n",
      "['은평구갈현1동', '은평구갈현2동']\n",
      "['은평구응암1동', '은평구응암2동', '은평구응암3동']\n",
      "['은평구신사1동', '은평구신사2동']\n",
      "['서대문구홍제1동', '서대문구홍제3동', '서대문구홍제2동']\n",
      "['서대문구홍은1동', '서대문구홍은2동']\n",
      "['서대문구남가좌1동', '서대문구남가좌2동']\n",
      "['서대문구북가좌1동', '서대문구북가좌2동']\n",
      "['마포구망원1동', '마포구망원2동']\n",
      "['마포구성산1동', '마포구성산2동']\n",
      "['양천구목1동', '양천구목2동', '양천구목3동', '양천구목4동', '양천구목5동']\n",
      "['양천구신월1동', '양천구신월2동', '양천구신월3동', '양천구신월4동', '양천구신월5동', '양천구신월6동', '양천구신월7동']\n",
      "['양천구신정1동', '양천구신정2동', '양천구신정3동', '양천구신정6동', '양천구신정7동', '양천구신정4동']\n",
      "['강서구등촌1동', '강서구등촌2동', '강서구등촌3동']\n",
      "['강서구화곡2동', '강서구화곡3동', '강서구화곡4동', '강서구화곡6동', '강서구화곡8동', '강서구화곡1동']\n",
      "['강서구가양1동', '강서구가양2동', '강서구가양3동']\n",
      "['강서구발산1동']\n",
      "['강서구방화1동', '강서구방화2동', '강서구방화3동']\n",
      "['구로구구로1동', '구로구구로3동', '구로구구로4동', '구로구구로5동', '구로구구로2동']\n",
      "['구로구고척1동', '구로구고척2동']\n",
      "['구로구개봉2동', '구로구개봉3동', '구로구개봉1동']\n",
      "['구로구오류1동', '구로구오류2동']\n",
      "['금천구독산1동', '금천구독산2동', '금천구독산3동', '금천구독산4동']\n",
      "['금천구시흥1동', '금천구시흥2동', '금천구시흥3동', '금천구시흥4동', '금천구시흥5동']\n",
      "['영등포구당산1동', '영등포구당산2동']\n",
      "['영등포구양평1동', '영등포구양평2동']\n",
      "['영등포구신길1동', '영등포구신길3동', '영등포구신길4동', '영등포구신길5동', '영등포구신길6동', '영등포구신길7동']\n",
      "['영등포구대림1동', '영등포구대림2동', '영등포구대림3동']\n",
      "['동작구노량진2동', '동작구노량진1동']\n",
      "['동작구상도1동', '동작구상도2동', '동작구상도3동', '동작구상도4동']\n",
      "['동작구사당1동', '동작구사당3동', '동작구사당4동', '동작구사당5동', '동작구사당2동']\n",
      "['동작구신대방1동', '동작구신대방2동']\n",
      "['서초구서초1동', '서초구서초2동', '서초구서초3동', '서초구서초4동']\n",
      "['서초구반포1동', '서초구반포2동', '서초구반포3동', '서초구반포4동']\n",
      "['서초구방배1동', '서초구방배2동', '서초구방배3동', '서초구방배4동']\n",
      "['서초구양재1동', '서초구양재2동']\n",
      "['강남구논현1동', '강남구논현2동']\n",
      "['강남구삼성1동', '강남구삼성2동']\n",
      "['강남구대치1동', '강남구대치4동', '강남구대치2동']\n",
      "['강남구역삼1동', '강남구역삼2동']\n",
      "['강남구도곡1동', '강남구도곡2동']\n",
      "['강남구개포1동', '강남구개포4동', '강남구개포2동']\n",
      "['강남구일원1동', '강남구일원2동']\n",
      "['송파구풍납1동', '송파구풍납2동']\n",
      "['송파구거여1동', '송파구거여2동']\n",
      "['송파구마천1동', '송파구마천2동']\n",
      "['송파구방이1동', '송파구방이2동']\n",
      "['송파구송파1동', '송파구송파2동']\n",
      "['송파구가락1동', '송파구가락2동']\n",
      "['송파구문정1동', '송파구문정2동']\n",
      "['송파구잠실4동', '송파구잠실6동', '송파구잠실7동', '송파구잠실2동', '송파구잠실3동']\n",
      "['강동구명일1동', '강동구명일2동']\n",
      "['강동구고덕1동', '강동구고덕2동']\n",
      "['강동구암사2동', '강동구암사3동', '강동구암사1동']\n",
      "['강동구천호1동', '강동구천호3동', '강동구천호2동']\n",
      "['강동구성내1동', '강동구성내2동', '강동구성내3동']\n",
      "['강동구둔촌1동', '강동구둔촌2동']\n",
      "['강동구상일1동', '강동구상일2동']\n",
      "['종로구종로5·6가동', '종로구종로1.2.3.4가동']\n"
     ]
    },
    {
     "data": {
      "text/html": [
       "<div>\n",
       "<style scoped>\n",
       "    .dataframe tbody tr th:only-of-type {\n",
       "        vertical-align: middle;\n",
       "    }\n",
       "\n",
       "    .dataframe tbody tr th {\n",
       "        vertical-align: top;\n",
       "    }\n",
       "\n",
       "    .dataframe thead th {\n",
       "        text-align: right;\n",
       "    }\n",
       "</style>\n",
       "<table border=\"1\" class=\"dataframe\">\n",
       "  <thead>\n",
       "    <tr style=\"text-align: right;\">\n",
       "      <th>address</th>\n",
       "      <th>종로구소계</th>\n",
       "      <th>종로구사직동</th>\n",
       "      <th>종로구삼청동</th>\n",
       "      <th>종로구부암동</th>\n",
       "      <th>종로구평창동</th>\n",
       "      <th>종로구무악동</th>\n",
       "      <th>종로구교남동</th>\n",
       "      <th>종로구가회동</th>\n",
       "      <th>종로구이화동</th>\n",
       "      <th>종로구청운효자동</th>\n",
       "      <th>...</th>\n",
       "      <th>송파구문정동</th>\n",
       "      <th>송파구잠실동</th>\n",
       "      <th>강동구명일동</th>\n",
       "      <th>강동구고덕동</th>\n",
       "      <th>강동구암사동</th>\n",
       "      <th>강동구천호동</th>\n",
       "      <th>강동구성내동</th>\n",
       "      <th>강동구둔촌동</th>\n",
       "      <th>강동구상일동</th>\n",
       "      <th>종로구종로동</th>\n",
       "    </tr>\n",
       "  </thead>\n",
       "  <tbody>\n",
       "    <tr>\n",
       "      <th>계</th>\n",
       "      <td>154318</td>\n",
       "      <td>9645</td>\n",
       "      <td>2764</td>\n",
       "      <td>9852</td>\n",
       "      <td>18336</td>\n",
       "      <td>8334</td>\n",
       "      <td>10229</td>\n",
       "      <td>4259</td>\n",
       "      <td>7774</td>\n",
       "      <td>12220</td>\n",
       "      <td>...</td>\n",
       "      <td>49445</td>\n",
       "      <td>117670</td>\n",
       "      <td>43486</td>\n",
       "      <td>47458</td>\n",
       "      <td>68120</td>\n",
       "      <td>87969</td>\n",
       "      <td>68097</td>\n",
       "      <td>24992</td>\n",
       "      <td>49128</td>\n",
       "      <td>13929</td>\n",
       "    </tr>\n",
       "  </tbody>\n",
       "</table>\n",
       "<p>1 rows × 270 columns</p>\n",
       "</div>"
      ],
      "text/plain": [
       "address   종로구소계  종로구사직동  종로구삼청동  종로구부암동  종로구평창동  종로구무악동  종로구교남동  종로구가회동  \\\n",
       "계        154318    9645    2764    9852   18336    8334   10229    4259   \n",
       "\n",
       "address  종로구이화동  종로구청운효자동  ...  송파구문정동  송파구잠실동  강동구명일동  강동구고덕동  강동구암사동  \\\n",
       "계          7774     12220  ...   49445  117670   43486   47458   68120   \n",
       "\n",
       "address  강동구천호동  강동구성내동  강동구둔촌동  강동구상일동  종로구종로동  \n",
       "계         87969   68097   24992   49128   13929  \n",
       "\n",
       "[1 rows x 270 columns]"
      ]
     },
     "execution_count": 440,
     "metadata": {},
     "output_type": "execute_result"
    }
   ],
   "source": [
    "from collections import defaultdict\n",
    "mar = people2021['address'].unique()\n",
    "\n",
    "\n",
    "digit_gu = []\n",
    "dic = defaultdict(list)\n",
    "for x in mar: \n",
    "        c=x.find('가')\n",
    "        #d=x[-1].indx()\n",
    "        if c!=-1 and x[c-1].isdigit():\n",
    "            digit_gu.append(x)\n",
    "            dic[x[:c-1]+'동'].append(x)\n",
    "        elif x[-2].isdigit():\n",
    "            digit_gu.append(x)\n",
    "            dic[x[:-2]+'동'].append(x)\n",
    "\n",
    "\n",
    "dic['성동구금호동'].append('성동구금호2.3가동')\n",
    "del dic['성동구금호2.동']\n",
    "dic['종로구종로동'].append('종로구종로5·6가동')\n",
    "dic['종로구종로동'].append('종로구종로1.2.3.4가동')\n",
    "del dic['종로구종로1.2.3.동']\n",
    "del dic['종로구종로5·동']\n",
    "dic['중랑구면목동'].append('중랑구면목3.8동')\n",
    "del dic['중랑구면목3.동']\n",
    "dic['노원구상계동'].append('노원구상계10동')\n",
    "dic['노원구상계동'].append('노원구상계3.4동')\n",
    "dic['노원구상계동'].append('노원구상계6.7동')\n",
    "dic['노원구중계동'].append('노원구중계2.3동')\n",
    "del dic['노원구상계1동']\n",
    "del dic['노원구상계3.동']\n",
    "del dic['노원구상계6.동']\n",
    "del dic['노원구중계2.동']\n",
    "\n",
    "dic\n",
    "\n",
    "record_store_transpose = p.set_index('address').T\n",
    "\n",
    "for parent in dic:\n",
    "    if parent not in record_store_transpose.columns:\n",
    "        record_store_transpose[parent]=0\n",
    "    baby = dic[parent]\n",
    "    print(baby)\n",
    "    record_store_transpose[parent] = record_store_transpose[baby].sum(axis=1)\n",
    "    record_store_transpose.drop(columns=baby, inplace=True)\n",
    "\n",
    "\n",
    "record_store_transpose"
   ]
  },
  {
   "cell_type": "code",
   "execution_count": 443,
   "id": "4477a3f8",
   "metadata": {},
   "outputs": [
    {
     "data": {
      "text/html": [
       "<div>\n",
       "<style scoped>\n",
       "    .dataframe tbody tr th:only-of-type {\n",
       "        vertical-align: middle;\n",
       "    }\n",
       "\n",
       "    .dataframe tbody tr th {\n",
       "        vertical-align: top;\n",
       "    }\n",
       "\n",
       "    .dataframe thead th {\n",
       "        text-align: right;\n",
       "    }\n",
       "</style>\n",
       "<table border=\"1\" class=\"dataframe\">\n",
       "  <thead>\n",
       "    <tr style=\"text-align: right;\">\n",
       "      <th></th>\n",
       "      <th>address</th>\n",
       "      <th>계</th>\n",
       "    </tr>\n",
       "  </thead>\n",
       "  <tbody>\n",
       "    <tr>\n",
       "      <th>159</th>\n",
       "      <td>송파구소계</td>\n",
       "      <td>664996</td>\n",
       "    </tr>\n",
       "    <tr>\n",
       "      <th>160</th>\n",
       "      <td>송파구오륜동</td>\n",
       "      <td>18087</td>\n",
       "    </tr>\n",
       "    <tr>\n",
       "      <th>161</th>\n",
       "      <td>송파구오금동</td>\n",
       "      <td>38936</td>\n",
       "    </tr>\n",
       "    <tr>\n",
       "      <th>162</th>\n",
       "      <td>송파구석촌동</td>\n",
       "      <td>32344</td>\n",
       "    </tr>\n",
       "    <tr>\n",
       "      <th>163</th>\n",
       "      <td>송파구삼전동</td>\n",
       "      <td>30921</td>\n",
       "    </tr>\n",
       "    <tr>\n",
       "      <th>164</th>\n",
       "      <td>송파구가락본동</td>\n",
       "      <td>26740</td>\n",
       "    </tr>\n",
       "    <tr>\n",
       "      <th>165</th>\n",
       "      <td>송파구잠실본동</td>\n",
       "      <td>28604</td>\n",
       "    </tr>\n",
       "    <tr>\n",
       "      <th>166</th>\n",
       "      <td>송파구장지동</td>\n",
       "      <td>29540</td>\n",
       "    </tr>\n",
       "    <tr>\n",
       "      <th>167</th>\n",
       "      <td>송파구위례동</td>\n",
       "      <td>36877</td>\n",
       "    </tr>\n",
       "    <tr>\n",
       "      <th>254</th>\n",
       "      <td>송파구풍납동</td>\n",
       "      <td>38873</td>\n",
       "    </tr>\n",
       "    <tr>\n",
       "      <th>255</th>\n",
       "      <td>송파구거여동</td>\n",
       "      <td>31697</td>\n",
       "    </tr>\n",
       "    <tr>\n",
       "      <th>256</th>\n",
       "      <td>송파구마천동</td>\n",
       "      <td>38300</td>\n",
       "    </tr>\n",
       "    <tr>\n",
       "      <th>257</th>\n",
       "      <td>송파구방이동</td>\n",
       "      <td>43104</td>\n",
       "    </tr>\n",
       "    <tr>\n",
       "      <th>258</th>\n",
       "      <td>송파구송파동</td>\n",
       "      <td>43790</td>\n",
       "    </tr>\n",
       "    <tr>\n",
       "      <th>259</th>\n",
       "      <td>송파구가락동</td>\n",
       "      <td>60068</td>\n",
       "    </tr>\n",
       "    <tr>\n",
       "      <th>260</th>\n",
       "      <td>송파구문정동</td>\n",
       "      <td>49445</td>\n",
       "    </tr>\n",
       "    <tr>\n",
       "      <th>261</th>\n",
       "      <td>송파구잠실동</td>\n",
       "      <td>117670</td>\n",
       "    </tr>\n",
       "  </tbody>\n",
       "</table>\n",
       "</div>"
      ],
      "text/plain": [
       "     address       계\n",
       "159    송파구소계  664996\n",
       "160   송파구오륜동   18087\n",
       "161   송파구오금동   38936\n",
       "162   송파구석촌동   32344\n",
       "163   송파구삼전동   30921\n",
       "164  송파구가락본동   26740\n",
       "165  송파구잠실본동   28604\n",
       "166   송파구장지동   29540\n",
       "167   송파구위례동   36877\n",
       "254   송파구풍납동   38873\n",
       "255   송파구거여동   31697\n",
       "256   송파구마천동   38300\n",
       "257   송파구방이동   43104\n",
       "258   송파구송파동   43790\n",
       "259   송파구가락동   60068\n",
       "260   송파구문정동   49445\n",
       "261   송파구잠실동  117670"
      ]
     },
     "execution_count": 443,
     "metadata": {},
     "output_type": "execute_result"
    }
   ],
   "source": [
    "people2021 = record_store_transpose.T.reset_index()\n",
    "people2021[people2021['address'].str.contains('송파구')]"
   ]
  },
  {
   "cell_type": "code",
   "execution_count": 450,
   "id": "25fed449",
   "metadata": {},
   "outputs": [],
   "source": [
    "train=pd.read_csv('../data/station_new_dong.csv',encoding='euc-kr')\n",
    "train = train[['선명','역명','지번주소(new)','gu']]\n",
    "train.rename(columns={'지번주소(new)':'address'},inplace=True)"
   ]
  },
  {
   "cell_type": "code",
   "execution_count": 467,
   "id": "777c5b28",
   "metadata": {},
   "outputs": [],
   "source": [
    "people_now = pd.merge(train,people2021,on='address',how='left')"
   ]
  },
  {
   "cell_type": "code",
   "execution_count": 469,
   "id": "8b30b064",
   "metadata": {},
   "outputs": [
    {
     "data": {
      "text/html": [
       "<div>\n",
       "<style scoped>\n",
       "    .dataframe tbody tr th:only-of-type {\n",
       "        vertical-align: middle;\n",
       "    }\n",
       "\n",
       "    .dataframe tbody tr th {\n",
       "        vertical-align: top;\n",
       "    }\n",
       "\n",
       "    .dataframe thead th {\n",
       "        text-align: right;\n",
       "    }\n",
       "</style>\n",
       "<table border=\"1\" class=\"dataframe\">\n",
       "  <thead>\n",
       "    <tr style=\"text-align: right;\">\n",
       "      <th></th>\n",
       "      <th>선명</th>\n",
       "      <th>역명</th>\n",
       "      <th>address</th>\n",
       "      <th>gu</th>\n",
       "      <th>계</th>\n",
       "    </tr>\n",
       "  </thead>\n",
       "  <tbody>\n",
       "    <tr>\n",
       "      <th>0</th>\n",
       "      <td>1호선</td>\n",
       "      <td>도봉산</td>\n",
       "      <td>도봉구도봉동</td>\n",
       "      <td>도봉구</td>\n",
       "      <td>48367.0</td>\n",
       "    </tr>\n",
       "    <tr>\n",
       "      <th>1</th>\n",
       "      <td>1호선</td>\n",
       "      <td>도봉</td>\n",
       "      <td>도봉구도봉동</td>\n",
       "      <td>도봉구</td>\n",
       "      <td>48367.0</td>\n",
       "    </tr>\n",
       "    <tr>\n",
       "      <th>2</th>\n",
       "      <td>1호선</td>\n",
       "      <td>방학</td>\n",
       "      <td>도봉구방학동</td>\n",
       "      <td>도봉구</td>\n",
       "      <td>76264.0</td>\n",
       "    </tr>\n",
       "    <tr>\n",
       "      <th>3</th>\n",
       "      <td>1호선</td>\n",
       "      <td>창동</td>\n",
       "      <td>도봉구창동</td>\n",
       "      <td>도봉구</td>\n",
       "      <td>120047.0</td>\n",
       "    </tr>\n",
       "    <tr>\n",
       "      <th>4</th>\n",
       "      <td>1호선</td>\n",
       "      <td>녹천</td>\n",
       "      <td>도봉구창동</td>\n",
       "      <td>도봉구</td>\n",
       "      <td>120047.0</td>\n",
       "    </tr>\n",
       "    <tr>\n",
       "      <th>...</th>\n",
       "      <td>...</td>\n",
       "      <td>...</td>\n",
       "      <td>...</td>\n",
       "      <td>...</td>\n",
       "      <td>...</td>\n",
       "    </tr>\n",
       "    <tr>\n",
       "      <th>273</th>\n",
       "      <td>8호선</td>\n",
       "      <td>송파</td>\n",
       "      <td>송파구가락동</td>\n",
       "      <td>송파구</td>\n",
       "      <td>60068.0</td>\n",
       "    </tr>\n",
       "    <tr>\n",
       "      <th>274</th>\n",
       "      <td>8호선</td>\n",
       "      <td>가락시장</td>\n",
       "      <td>송파구가락동</td>\n",
       "      <td>송파구</td>\n",
       "      <td>60068.0</td>\n",
       "    </tr>\n",
       "    <tr>\n",
       "      <th>275</th>\n",
       "      <td>8호선</td>\n",
       "      <td>문정</td>\n",
       "      <td>송파구문정동</td>\n",
       "      <td>송파구</td>\n",
       "      <td>49445.0</td>\n",
       "    </tr>\n",
       "    <tr>\n",
       "      <th>276</th>\n",
       "      <td>8호선</td>\n",
       "      <td>장지</td>\n",
       "      <td>송파구장지동</td>\n",
       "      <td>송파구</td>\n",
       "      <td>29540.0</td>\n",
       "    </tr>\n",
       "    <tr>\n",
       "      <th>277</th>\n",
       "      <td>8호선</td>\n",
       "      <td>복정</td>\n",
       "      <td>송파구장지동</td>\n",
       "      <td>송파구</td>\n",
       "      <td>29540.0</td>\n",
       "    </tr>\n",
       "  </tbody>\n",
       "</table>\n",
       "<p>278 rows × 5 columns</p>\n",
       "</div>"
      ],
      "text/plain": [
       "      선명    역명 address   gu         계\n",
       "0    1호선   도봉산  도봉구도봉동  도봉구   48367.0\n",
       "1    1호선    도봉  도봉구도봉동  도봉구   48367.0\n",
       "2    1호선    방학  도봉구방학동  도봉구   76264.0\n",
       "3    1호선    창동   도봉구창동  도봉구  120047.0\n",
       "4    1호선    녹천   도봉구창동  도봉구  120047.0\n",
       "..   ...   ...     ...  ...       ...\n",
       "273  8호선    송파  송파구가락동  송파구   60068.0\n",
       "274  8호선  가락시장  송파구가락동  송파구   60068.0\n",
       "275  8호선    문정  송파구문정동  송파구   49445.0\n",
       "276  8호선    장지  송파구장지동  송파구   29540.0\n",
       "277  8호선    복정  송파구장지동  송파구   29540.0\n",
       "\n",
       "[278 rows x 5 columns]"
      ]
     },
     "execution_count": 469,
     "metadata": {},
     "output_type": "execute_result"
    }
   ],
   "source": [
    "word = people_now[people_now['계'].isna()]['역명'].unique()\n",
    "for x in word : \n",
    "    val=train[train['역명']==x]['gu'].unique()[0]\n",
    "    r=people_now[people_now['address'].str.contains(val)]['계'].median()\n",
    "    people_now.loc[(people_now['역명']==x)&(people_now['계'].isna()),'계']=r\n",
    "people_now"
   ]
  },
  {
   "cell_type": "code",
   "execution_count": 610,
   "id": "bd90e1e3",
   "metadata": {},
   "outputs": [],
   "source": [
    "people_now.to_csv('../data/2021서울인구수데이터.csv',encoding='euc-kr')"
   ]
  },
  {
   "cell_type": "markdown",
   "id": "c6dbe543",
   "metadata": {},
   "source": [
    "---"
   ]
  },
  {
   "cell_type": "code",
   "execution_count": 752,
   "id": "61a29354",
   "metadata": {},
   "outputs": [],
   "source": [
    "visit = pd.read_csv('../data/test.csv',encoding='euc-kr',index_col=0)"
   ]
  },
  {
   "cell_type": "markdown",
   "id": "053943bf",
   "metadata": {},
   "source": [
    "# 지금 이 역이 혼잡해?"
   ]
  },
  {
   "cell_type": "code",
   "execution_count": 655,
   "id": "388b8296",
   "metadata": {},
   "outputs": [],
   "source": [
    "def get_congestion(day,temp,rain,snow,wind,station,hosun):\n",
    "    train_label = df[df['역명']==station]['new역명'].unique()[0]\n",
    "    \n",
    "    company = df[(df['역명']==station)&(df['호선']==hosun)]['사업체수'].unique()[-1]\n",
    "    \n",
    "    p2m = visit[(visit['subway_station_nm']==station) & (visit['선명']==hosun)]['tourist_nm'].unique()\n",
    "\n",
    "    people = people_now[(people_now['역명']==station) & (people_now['선명']==hosun)]['계'].unique()[0]\n",
    "    \n",
    "    final_model = Pipeline(estimators4)\n",
    "    \n",
    "    \n",
    "    place = [day,temp,rain,snow,wind,train_label,company,people]\n",
    "    \n",
    "    result = final_model.predict_proba([place])\n",
    "    if len(p2m):\n",
    "        print(station + '인근 관광지는 아래와 같습니다.')\n",
    "        print(p2m)\n",
    "        print()\n",
    "    else : \n",
    "        print(station + '인근 관광지는 없습니다.')\n",
    "    res = round(result[0][1]*100,2)\n",
    "    return station+'(이)가 혼잡할 확률은 '+str(res)+'% 입니다.'"
   ]
  },
  {
   "cell_type": "markdown",
   "id": "4a8b2742",
   "metadata": {},
   "source": [
    "### 요일, 기온 , 강수량 , 적설, 풍속, 역명, 호선 정보 입력"
   ]
  },
  {
   "cell_type": "code",
   "execution_count": 640,
   "id": "89011061",
   "metadata": {
    "scrolled": true
   },
   "outputs": [
    {
     "name": "stdout",
     "output_type": "stream",
     "text": [
      "종로3가인근 관광지는 아래와 같습니다.\n",
      "['권동진집터' '권오설아지트터(6.10만세운동추진거점)' '낙원떡, 악기상가' '단성사' '대관원터' '무산자동맹회회관터'\n",
      " '박물관은살아있다 인사동점' '보신각앞3.1운동만세시위지,한성정부선포지' '승동교회' '신간회창립본부터' '연강홀' '오세창집터'\n",
      " '운현궁' '을지로노가리골목' '이벽집터' '전태일기념관' '전협집터(대동단거점)' '조선교육협회회관터' '조선여성동우회회관터'\n",
      " '종로3가보쌈골목' '종로귀금속거리' '종묘' '종묘외대문' '창덕궁' '최시형순교지' '탑골공원'\n",
      " '파조교(6.10독립만세선창지)' '한양의원터']\n",
      "\n"
     ]
    },
    {
     "data": {
      "text/plain": [
       "'종로3가가 혼잡할 확률은 86.0% 입니다.'"
      ]
     },
     "execution_count": 640,
     "metadata": {},
     "output_type": "execute_result"
    }
   ],
   "source": [
    "get_congestion(0, 1, 0, 0 , 5, '종로3가','3호선')"
   ]
  },
  {
   "cell_type": "code",
   "execution_count": 608,
   "id": "2a40e3d9",
   "metadata": {
    "scrolled": true
   },
   "outputs": [
    {
     "name": "stdout",
     "output_type": "stream",
     "text": [
      "강남인근 관광지는 아래와 같습니다.\n",
      "['국기원기념관']\n",
      "\n"
     ]
    },
    {
     "data": {
      "text/plain": [
       "'강남가 혼잡할 확률은 24.0% 입니다.'"
      ]
     },
     "execution_count": 608,
     "metadata": {},
     "output_type": "execute_result"
    }
   ],
   "source": [
    "get_congestion(1, 9, 0, 0 , 2, '강남','2호선')"
   ]
  },
  {
   "cell_type": "code",
   "execution_count": 653,
   "id": "58b3dc0d",
   "metadata": {},
   "outputs": [
    {
     "name": "stdout",
     "output_type": "stream",
     "text": [
      "불광인근 관광지는 없습니다.\n"
     ]
    },
    {
     "data": {
      "text/plain": [
       "'불광(이)가 혼잡할 확률은 9.0% 입니다.'"
      ]
     },
     "execution_count": 653,
     "metadata": {},
     "output_type": "execute_result"
    }
   ],
   "source": [
    "get_congestion(2, 9, 0, 0 , 2, '불광','3호선')"
   ]
  },
  {
   "cell_type": "code",
   "execution_count": 646,
   "id": "f98b8832",
   "metadata": {},
   "outputs": [
    {
     "name": "stdout",
     "output_type": "stream",
     "text": [
      "온수인근 관광지는 아래와 같습니다.\n",
      "['푸른수목원']\n",
      "\n"
     ]
    },
    {
     "data": {
      "text/plain": [
       "'온수가 혼잡할 확률은 15.0% 입니다.'"
      ]
     },
     "execution_count": 646,
     "metadata": {},
     "output_type": "execute_result"
    }
   ],
   "source": [
    "get_congestion(3, 3, 0, 0 , 10, '온수','7호선')"
   ]
  },
  {
   "cell_type": "code",
   "execution_count": 641,
   "id": "bd491e84",
   "metadata": {},
   "outputs": [
    {
     "name": "stdout",
     "output_type": "stream",
     "text": [
      "뚝섬인근 관광지는 아래와 같습니다.\n",
      "['브릭캠퍼스 서울' '서울숲']\n",
      "\n"
     ]
    },
    {
     "data": {
      "text/plain": [
       "'뚝섬가 혼잡할 확률은 41.0% 입니다.'"
      ]
     },
     "execution_count": 641,
     "metadata": {},
     "output_type": "execute_result"
    }
   ],
   "source": [
    "get_congestion(4, -4, 0, 0 , 7, '뚝섬','2호선')"
   ]
  },
  {
   "cell_type": "code",
   "execution_count": 647,
   "id": "1a7a491c",
   "metadata": {},
   "outputs": [
    {
     "name": "stdout",
     "output_type": "stream",
     "text": [
      "혜화인근 관광지는 아래와 같습니다.\n",
      "['국립서울과학관' '대학로 예술의 거리' '문예회관' '서울문묘' '이화마을' '짚, 풀 생활사 박물관' '창경궁']\n",
      "\n"
     ]
    },
    {
     "data": {
      "text/plain": [
       "'혜화가 혼잡할 확률은 12.0% 입니다.'"
      ]
     },
     "execution_count": 647,
     "metadata": {},
     "output_type": "execute_result"
    }
   ],
   "source": [
    "get_congestion(5, -11, 0, 0 , 11, '혜화','4호선')"
   ]
  },
  {
   "cell_type": "code",
   "execution_count": 649,
   "id": "991157b0",
   "metadata": {},
   "outputs": [
    {
     "name": "stdout",
     "output_type": "stream",
     "text": [
      "종각인근 관광지는 아래와 같습니다.\n",
      "['관광안내전시관' '놀이똥산 서울점' '런닝맨 인사동점' '보신각' '영풍문고' '조계사']\n",
      "\n"
     ]
    },
    {
     "data": {
      "text/plain": [
       "'종각가 혼잡할 확률은 13.0% 입니다.'"
      ]
     },
     "execution_count": 649,
     "metadata": {},
     "output_type": "execute_result"
    }
   ],
   "source": [
    "get_congestion(6, 3, 1.2, 0 , 2, '종각','1호선')"
   ]
  },
  {
   "cell_type": "code",
   "execution_count": 656,
   "id": "3beaf299",
   "metadata": {},
   "outputs": [
    {
     "name": "stdout",
     "output_type": "stream",
     "text": [
      "망원인근 관광지는 아래와 같습니다.\n",
      "['망리단길' '망원 한강공원' '망원시장' '망원정터' '서교동최규하대통령가옥' '서울함 공원' '월드컵시장' '한강시민공원'\n",
      " '한강시민공원 망원지구 수영장']\n",
      "\n"
     ]
    },
    {
     "data": {
      "text/plain": [
       "'망원(이)가 혼잡할 확률은 14.0% 입니다.'"
      ]
     },
     "execution_count": 656,
     "metadata": {},
     "output_type": "execute_result"
    }
   ],
   "source": [
    "get_congestion(2, 30, 1.8, 0 , 4, '망원','6호선')"
   ]
  },
  {
   "cell_type": "code",
   "execution_count": 657,
   "id": "b04aa786",
   "metadata": {},
   "outputs": [
    {
     "name": "stdout",
     "output_type": "stream",
     "text": [
      "경복궁인근 관광지는 아래와 같습니다.\n",
      "['경복궁' '경찰박물관' '국립민속박물관' '사직단' '서촌마을' '성곡미술관' '이상의집' '청와대사랑채']\n",
      "\n"
     ]
    },
    {
     "data": {
      "text/plain": [
       "'경복궁(이)가 혼잡할 확률은 7.0% 입니다.'"
      ]
     },
     "execution_count": 657,
     "metadata": {},
     "output_type": "execute_result"
    }
   ],
   "source": [
    "get_congestion(5, 27, 1, 0 , 2, '경복궁','3호선')"
   ]
  },
  {
   "cell_type": "markdown",
   "id": "1a88f870",
   "metadata": {},
   "source": [
    "---"
   ]
  }
 ],
 "metadata": {
  "kernelspec": {
   "display_name": "Python 3",
   "language": "python",
   "name": "python3"
  },
  "language_info": {
   "codemirror_mode": {
    "name": "ipython",
    "version": 3
   },
   "file_extension": ".py",
   "mimetype": "text/x-python",
   "name": "python",
   "nbconvert_exporter": "python",
   "pygments_lexer": "ipython3",
   "version": "3.8.8"
  }
 },
 "nbformat": 4,
 "nbformat_minor": 5
}
